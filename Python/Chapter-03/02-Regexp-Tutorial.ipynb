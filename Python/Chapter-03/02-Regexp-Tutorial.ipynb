{
 "cells": [
  {
   "cell_type": "code",
   "execution_count": 2,
   "metadata": {},
   "outputs": [
    {
     "data": {
      "text/html": [
       "<link href='http://fonts.googleapis.com/css?family=Alegreya+Sans:100,300,400,500,700,800,900,100italic,300italic,400italic,500italic,700italic,800italic,900italic' rel='stylesheet' type='text/css'>\n",
       "<link href='http://fonts.googleapis.com/css?family=Arvo:400,700,400italic' rel='stylesheet' type='text/css'>\n",
       "<link href='http://fonts.googleapis.com/css?family=PT+Mono' rel='stylesheet' type='text/css'>\n",
       "<link href='http://fonts.googleapis.com/css?family=Shadows+Into+Light' rel='stylesheet' type='text/css'>\n",
       "<link href='http://fonts.googleapis.com/css?family=Philosopher:400,700,400italic,700italic' rel='stylesheet' type='text/css'>\n",
       "<link href=\"http://fonts.googleapis.com/css?family=Sacramento\" rel=\"stylesheet\" type=\"text/css\">\n",
       "\n",
       "<style>\n",
       "\n",
       "@font-face {\n",
       "    font-family: \"Computer Modern\";\n",
       "    src: url('http://mirrors.ctan.org/fonts/cm-unicode/fonts/otf/cmunss.otf');\n",
       "}\n",
       "\n",
       ".container { width: 100% }\n",
       "\n",
       "/* Formatting for header cells */\n",
       ".text_cell_render h1 {\n",
       "    font-family: 'Philosopher', sans-serif;\n",
       "    font-weight: 400;\n",
       "    font-size: 2.2em;\n",
       "    line-height: 100%;\n",
       "    color: rgb(0, 80, 120);\n",
       "    margin-bottom: 0.1em;\n",
       "    margin-top: 0.1em;\n",
       "    display: block;\n",
       "}\t\n",
       ".text_cell_render h2 {\n",
       "    font-family: 'Philosopher', serif;\n",
       "    font-weight: 400;\n",
       "    font-size: 1.9em;\n",
       "    line-height: 100%;\n",
       "    color: rgb(200,100,0);\n",
       "    margin-bottom: 0.1em;\n",
       "    margin-top: 0.1em;\n",
       "    display: block;\n",
       "}\t\n",
       "\n",
       ".text_cell_render h3 {\n",
       "    font-family: 'Philosopher', serif;\n",
       "    margin-top:12px;\n",
       "    margin-bottom: 3px;\n",
       "    font-style: italic;\n",
       "    color: rgb(94,127,192);\n",
       "}\n",
       "\n",
       ".text_cell_render h4 {\n",
       "    font-family: 'Philosopher', serif;\n",
       "}\n",
       "\n",
       ".text_cell_render h5 {\n",
       "    font-family: 'Alegreya Sans', sans-serif;\n",
       "    font-weight: 300;\n",
       "    font-size: 16pt;\n",
       "    color: grey;\n",
       "    font-style: italic;\n",
       "    margin-bottom: .1em;\n",
       "    margin-top: 0.1em;\n",
       "    display: block;\n",
       "}\n",
       "\n",
       ".text_cell_render h6 {\n",
       "    font-family: 'PT Mono', sans-serif;\n",
       "    font-weight: 300;\n",
       "    font-size: 10pt;\n",
       "    color: grey;\n",
       "    margin-bottom: 1px;\n",
       "    margin-top: 1px;\n",
       "}\n",
       "\n",
       ".text_cell_render em {\n",
       "    font-family: 'Philosopher', sans-serif;\n",
       "    color:        blue;\n",
       "    background-color: rgb(255,220,180);\n",
       "    font-size:    110%;\n",
       "    margin-left:   2px;\n",
       "    margin-right:  2px;\n",
       "    font-weight:   100;\n",
       "}\n",
       "\n",
       ".text_cell_render b {\n",
       "    color:            rgb(255,195,195);\n",
       "    background-color: rgb(0,0,0);\n",
       "    font-size:    110%;\n",
       "    margin-left:   2px;\n",
       "    margin-right:  2px;\n",
       "    font-weight:   650;\n",
       "}\n",
       "\n",
       ".text_cell_render u {\n",
       "    color:            blue;\n",
       "    font-size:    110%;\n",
       "    margin-left:   2px;\n",
       "    margin-right:  2px;\n",
       "    font-weight:   650;\n",
       "}\n",
       "\n",
       ".text_cell_render tt {\n",
       "    font-size:    120%;\n",
       "    margin-left:   2px;\n",
       "    margin-right:  2px;\n",
       "    font-weight:   150;\n",
       "}\n",
       "\n",
       ".Codemirror {\n",
       "    font-family: \"PT Mono\";\n",
       "    font-size: 100%;\n",
       "}\n",
       "\n",
       "#fancy {\n",
       "    font-family:      Georgia;\n",
       "    position:         relative;\n",
       "    float:            left;\n",
       "    border:           2px solid red;\n",
       "    width:            600px;\n",
       "    padding-left:     20px;\n",
       "    padding-right:    20px;\n",
       "    padding-top:      10px;\n",
       "    font-family:      'Sacramento', cursive;\n",
       "    font-size:        26px;\n",
       "    background-color: #F4EBF3;\n",
       "    border-radius:    15px;\n",
       "}\n",
       "\n",
       "</Style>\n",
       "\n"
      ],
      "text/plain": [
       "<IPython.core.display.HTML object>"
      ]
     },
     "execution_count": 2,
     "metadata": {},
     "output_type": "execute_result"
    }
   ],
   "source": [
    "from IPython.display import HTML\n",
    "HTML(open('../style.css').read())"
   ]
  },
  {
   "cell_type": "markdown",
   "metadata": {},
   "source": [
    "# Regular Expressions in Python (A Short Tutorial)\n",
    "\n",
    "This tutorial provides an in-depth exploration of how regular expressions are implemented in Python. It is assumed that the reader is already familiar with the fundamental concepts of [regular expressions](https://en.wikipedia.org/wiki/Regular_expression), typically covered in formal language courses such as [Formal Languages and Their Application](https://github.com/karlstroetmann/Formal-Languages/blob/master/Lecture-Notes/formal-languages.pdf). The focus here is to bridge the gap between the theoretical understanding of regular expressions and their practical application within the Python programming environment.\n",
    "\n",
    "In Python, regular expressions are not integrated into the core language but are available through the `re` module. This module is a part of the Python Standard Library, eliminating the need for a separate installation. However, it is essential to import the module to utilize its functionalities. Comprehensive documentation for the `re` module is accessible at [Python's official documentation site](https://docs.python.org/3/library/re.html)."
   ]
  },
  {
   "cell_type": "code",
   "execution_count": 3,
   "metadata": {},
   "outputs": [],
   "source": [
    "import re"
   ]
  },
  {
   "cell_type": "markdown",
   "metadata": {},
   "source": [
    "Regular expressions serve as textual patterns that define <em style=\"color:blue\">languages</em>. In this context, a <em style=\"color:blue\">language</em> is understood as a specific <em style=\"color:blue\">set of strings</em>. For the ensuing discussion, let's consider $\\Sigma$ to be the universal set of all Unicode characters, and $\\Sigma^*$ as the set comprising strings formed from these Unicode characters. We will inductively define the set $\\textrm{RegExp}$ of regular expressions.\n",
    "\n",
    "To elucidate the semantics of a given regular expression $r$, we introduce a function \n",
    "$$ \n",
    "\\mathcal{L}: \\textrm{RegExp} \\rightarrow 2^{\\Sigma^*} \n",
    "$$\n",
    "where $\\mathcal{L}(r)$ denotes the <em style=\"color:blue\">language</em> represented by the regular expression $r$."
   ]
  },
  {
   "cell_type": "markdown",
   "metadata": {},
   "source": [
    "To illustrate the functionality of regular expressions, we will employ the `findall` function from Python's `re` module. The function is invoked as follows:\n",
    "\n",
    "$$ \\texttt{re.findall}(r, s, \\textrm{flags}=0) $$\n",
    "\n",
    "In this expression, the parameters are interpreted in the following manner:\n",
    "- $r$ is a string that serves as the regular expression.\n",
    "- $s$ is the target string in which we wish to locate substrings that match the regular expression $r$.\n",
    "- $\\textrm{flags}$ is an optional argument of type `int`, which defaults to $0$.\n",
    "\n",
    "  This parameter allows for the setting of specific flags that can modify the behavior of the regular expression $r$. For instance, applying the flag `re.IGNORECASE` will render the search operation case-insensitive.\n",
    "\n",
    "The `findall` function returns a list containing the *non-overlapping* substrings of $s$ that align with the specified regular expression $r$. As an example, consider a regular expression $r$ that seeks the letter `a`. If $s$ contains two instances of the letter `a`, the `findall` function will return a list comprising these two occurrences."
   ]
  },
  {
   "cell_type": "code",
   "execution_count": 4,
   "metadata": {},
   "outputs": [
    {
     "data": {
      "text/plain": [
       "['a', 'a']"
      ]
     },
     "execution_count": 4,
     "metadata": {},
     "output_type": "execute_result"
    }
   ],
   "source": [
    "re.findall(r'a', 'abcabcABC')"
   ]
  },
  {
   "cell_type": "markdown",
   "metadata": {},
   "source": [
    "In the next example, the flag `re.IGNORECASE` is set and hence the function call returns a list of length 3."
   ]
  },
  {
   "cell_type": "code",
   "execution_count": 5,
   "metadata": {},
   "outputs": [
    {
     "data": {
      "text/plain": [
       "['a', 'a', 'A']"
      ]
     },
     "execution_count": 5,
     "metadata": {},
     "output_type": "execute_result"
    }
   ],
   "source": [
    "re.findall(r'a', 'abcabcABC', re.IGNORECASE)"
   ]
  },
  {
   "cell_type": "markdown",
   "metadata": {},
   "source": [
    "To commence our investigation into the set $\\textrm{RegExp}$, which contains all *Python* regular expressions, \n",
    "it's essential to first establish the set $\\texttt{MetaChars}$ comprising all *meta-characters*:\n",
    "```\n",
    "MetaChars := { '.', '^', '$', '*', '+', '?', '{', '}', '[', ']', '\\', '|', '(', ')' }\n",
    "```\n",
    "These specific characters act as <em style=\"color:blue\">operator symbols</em> or components of operator symbols within the context of regular expressions."
   ]
  },
  {
   "cell_type": "markdown",
   "metadata": {},
   "source": [
    "Now we can start our inductive definition of regular expressions:\n",
    "- Any Unicode character $c$ such that $c \\not\\in \\textrm{MetaChars}$ is a regular expression.\n",
    "  The regular expressions $c$ matches the character $c$, i.e. we have\n",
    "  $$ \\mathcal{L}(c) = \\{ c \\}. $$\n",
    "- If $c$ is a meta character, i.e. we have $c \\in \\textrm{MetaChars}$, then the string $\\backslash c$\n",
    "  is a regular expression matching the meta-character $c$, i.e. we have\n",
    "  $$ \\mathcal{L}(\\backslash c) = \\{ c \\}. $$"
   ]
  },
  {
   "cell_type": "markdown",
   "metadata": {},
   "source": [
    "In the following example we have to use <em style=\"color:blue\">raw strings</em> in order to prevent\n",
    "the backlash character to be mistaken as an <em style=\"color:blue\">escape sequence</em>.  A string is a \n",
    "<em style=\"color:blue\">raw string</em> if the opening quote character is preceded with the character\n",
    "`r`."
   ]
  },
  {
   "cell_type": "code",
   "execution_count": 6,
   "metadata": {},
   "outputs": [
    {
     "data": {
      "text/plain": [
       "['+', '+']"
      ]
     },
     "execution_count": 6,
     "metadata": {},
     "output_type": "execute_result"
    }
   ],
   "source": [
    "re.findall(r'\\+', '+-+')"
   ]
  },
  {
   "cell_type": "markdown",
   "metadata": {},
   "source": [
    "Instead of using raw strings we could double the backslash characters as shown below."
   ]
  },
  {
   "cell_type": "code",
   "execution_count": 7,
   "metadata": {},
   "outputs": [
    {
     "data": {
      "text/plain": [
       "['+', '+']"
      ]
     },
     "execution_count": 7,
     "metadata": {},
     "output_type": "execute_result"
    }
   ],
   "source": [
    "re.findall('\\\\+', '+-+')"
   ]
  },
  {
   "cell_type": "markdown",
   "metadata": {},
   "source": [
    "## Concatenation"
   ]
  },
  {
   "cell_type": "markdown",
   "metadata": {},
   "source": [
    "The next rule shows how regular expressions can be <em style=\"color:blue\">concatenated</em>:\n",
    "- If $r_1$ and $r_2$ are regular expressions, then $r_1r_2$ is a regular expression.  This\n",
    "  regular expression matches any string $s$ that can be split into two substrings $s_1$ and $s_2$ \n",
    "  such that $r_1$ matches $s_1$ and $r_2$ matches $s_2$.  Formally, we have\n",
    "  $$\\mathcal{L}(r_1r_2) := \n",
    "    \\bigl\\{ s_1 \\cdot s_2 \\mid s_1 \\in \\mathcal{L}(r_1) \\wedge s_2 \\in \\mathcal{L}(r_2) \\bigr\\}.\n",
    "  $$\n",
    "  \n",
    "In the lecture notes we have used the notation $r_1 \\cdot r_2$ instead of the *Python* notation $r_1r_2$.  \n",
    "\n",
    "Using concatenation of regular expressions, we can now find words."
   ]
  },
  {
   "cell_type": "code",
   "execution_count": 8,
   "metadata": {},
   "outputs": [
    {
     "data": {
      "text/plain": [
       "['The', 'the', 'the']"
      ]
     },
     "execution_count": 8,
     "metadata": {},
     "output_type": "execute_result"
    }
   ],
   "source": [
    "re.findall(r'the', 'The horse, the dog, and the cat.', flags=re.IGNORECASE)"
   ]
  },
  {
   "cell_type": "markdown",
   "metadata": {},
   "source": [
    "## Choice"
   ]
  },
  {
   "cell_type": "markdown",
   "metadata": {},
   "source": [
    "Regular expressions provide the operator `|` that can be used to choose between \n",
    "<em style=\"color:blue\">alternatives:</em>\n",
    "- If $r_1$ and $r_2$ are regular expressions, then $r_1|r_2$ is a regular expression.  This\n",
    "  regular expression matches any string $s$ that can is matched by either $r_1$ or $r_2$.\n",
    "  Formally, we have\n",
    "  $$\\mathcal{L}(r_1|r_2) := \\mathcal{L}(r_1) \\cup \\mathcal{L}(r_2).  $$\n",
    "  \n",
    "In the lecture notes we have used the notation $r_1 + r_2$ instead of the *Python* notation $r_1|r_2$."
   ]
  },
  {
   "cell_type": "code",
   "execution_count": 9,
   "metadata": {},
   "outputs": [
    {
     "data": {
      "text/plain": [
       "['The', 'the', 'a', 'a', 'a']"
      ]
     },
     "execution_count": 9,
     "metadata": {},
     "output_type": "execute_result"
    }
   ],
   "source": [
    "re.findall(r'The|a', 'The horse, the dog, and a cat.', flags=re.IGNORECASE)"
   ]
  },
  {
   "cell_type": "markdown",
   "metadata": {},
   "source": [
    "## Quantifiers"
   ]
  },
  {
   "cell_type": "markdown",
   "metadata": {},
   "source": [
    "The most interesting regular expression operators are the <em style=\"color:blue\">quantifiers</em>.\n",
    "The official documentation calls them <em style=\"color:blue\">repetition qualifiers</em> but in this notebook \n",
    "they are called *quantifiers*, since this is shorter.  Syntactically, *quantifiers* are \n",
    "<em style=\"color:blue\">postfix operators</em>.\n",
    "- If $r$ is a regular expressions, then $r+$ is a regular expression.  This\n",
    "  regular expression matches any string $s$ that can be split into a list on $n$ substrings $s_1$, \n",
    "  $s_2$, $\\cdots$, $s_n$ such that $r$ matches $s_i$ for all $i \\in \\{1,\\cdots,n\\}$.  \n",
    "  Formally, we have\n",
    "  $$\\mathcal{L}(r+) := \n",
    "    \\Bigl\\{ s \\Bigm| \\exists n \\in \\mathbb{N}: \\bigl(n \\geq 1 \\wedge \n",
    "            \\exists s_1,\\cdots,s_n : (s_1 \\cdots s_n = s \\wedge \n",
    "             \\forall i \\in \\{1,\\cdots, n\\}:  s_i \\in \\mathcal{L}(r)\\bigr)  \n",
    "    \\Bigr\\}.\n",
    "  $$\n",
    "  Informally, $r+$ matches $r$ any positive number of times."
   ]
  },
  {
   "cell_type": "code",
   "execution_count": 10,
   "metadata": {},
   "outputs": [
    {
     "data": {
      "text/plain": [
       "['a', 'aa', 'aAa', 'a']"
      ]
     },
     "execution_count": 10,
     "metadata": {},
     "output_type": "execute_result"
    }
   ],
   "source": [
    "re.findall(r'a+', 'abaabaAaba', flags=re.IGNORECASE)"
   ]
  },
  {
   "cell_type": "markdown",
   "metadata": {},
   "source": [
    "- If $r$ is a regular expressions, then $r*$ is a regular expression.  This\n",
    "  regular expression matches either the empty string or any string $s$ that can be split into a list on $n$ substrings $s_1$, \n",
    "  $s_2$, $\\cdots$, $s_n$ such that $r$ matches $s_i$ for all $i \\in \\{1,\\cdots,n\\}$.  \n",
    "  Formally, we have\n",
    "  $$\\mathcal{L}(r*) := \\bigl\\{ \\texttt{''} \\bigr\\} \\cup\n",
    "    \\Bigl\\{ s \\Bigm| \\exists n \\in \\mathbb{N}: \\bigl(n \\geq 1 \\wedge \n",
    "            \\exists s_1,\\cdots,s_n : (s_1 \\cdots s_n = s \\wedge \n",
    "             \\forall i \\in \\{1,\\cdots, n\\}:  s_i \\in \\mathcal{L}(r)\\bigr)  \n",
    "    \\Bigr\\}.\n",
    "  $$\n",
    "  \n",
    "  Informally, $r*$ matches $r$ any number of times, including zero times.  Therefore, in the following example the result also contains various empty strings.  For example, in the string `'abaabaaaba'` the regular expression `a*` will find an empty string at the beginning of each occurrence of the character `'b'`.  The final occurrence of the empty string is found at the end of the string:"
   ]
  },
  {
   "cell_type": "code",
   "execution_count": 11,
   "metadata": {},
   "outputs": [
    {
     "data": {
      "text/plain": [
       "['a', '', 'aa', '', '', 'aaa', '', 'a', '']"
      ]
     },
     "execution_count": 11,
     "metadata": {},
     "output_type": "execute_result"
    }
   ],
   "source": [
    "re.findall(r'a*', 'abaabbaaaba')"
   ]
  },
  {
   "cell_type": "markdown",
   "metadata": {},
   "source": [
    "- If $r$ is a regular expressions, then $r?$ is a regular expression.  This\n",
    "  regular expression matches either the empty string or any string $s$ that is matched by $r$.  Formally we have\n",
    "  $$\\mathcal{L}(r?) := \\bigl\\{ \\texttt{''} \\bigr\\} \\cup \\mathcal{L}(r). $$\n",
    "  Informally, $r?$ matches $r$ at most one times but also zero times.  Therefore, in the following example the result also contains two empty strings.  One of these is found at the beginning of the character `'b'`, the second is found at the end of the string."
   ]
  },
  {
   "cell_type": "code",
   "execution_count": 12,
   "metadata": {},
   "outputs": [
    {
     "data": {
      "text/plain": [
       "['a', '', 'a', 'a', '']"
      ]
     },
     "execution_count": 12,
     "metadata": {},
     "output_type": "execute_result"
    }
   ],
   "source": [
    "re.findall(r'a?', 'abaa')"
   ]
  },
  {
   "cell_type": "markdown",
   "metadata": {},
   "source": [
    "- If $r$ is a regular expressions and $m,n\\in\\mathbb{N}$ such that $m \\leq n$, then $r\\{m,n\\}$ is a \n",
    "  regular expression.  This regular expression matches any number $k$ of repetitions of $r$ such that   $m \\leq k \\leq n$.\n",
    "  Formally, we have\n",
    "  $$\\mathcal{L}(r\\{m,n\\}) =\n",
    "    \\Bigl\\{ s \\mid \\exists k \\in \\mathbb{N}: \\bigl(m \\leq k \\leq n \\wedge \n",
    "            \\exists s_1,\\cdots,s_k : (s_1 \\cdots s_k = s \\wedge \n",
    "             \\forall i \\in \\{1,\\cdots, k\\}:  s_i \\in \\mathcal{L}(r)\\bigr)  \n",
    "    \\Bigr\\}.\n",
    "  $$\n",
    "  Informally, $r\\{m,n\\}$ matches $r$ at least $m$ times and at most $n$ times."
   ]
  },
  {
   "cell_type": "code",
   "execution_count": 13,
   "metadata": {},
   "outputs": [
    {
     "data": {
      "text/plain": [
       "['aaa']"
      ]
     },
     "execution_count": 13,
     "metadata": {},
     "output_type": "execute_result"
    }
   ],
   "source": [
    "re.findall(r'a{2,3}', 'aaaa')"
   ]
  },
  {
   "cell_type": "markdown",
   "metadata": {},
   "source": [
    "Above, the regular expression `r'a{2,3}'` matches the string `'aaaa'` only once since the first match consumes three occurrences of `a` and then there is only a single `a` left."
   ]
  },
  {
   "cell_type": "markdown",
   "metadata": {},
   "source": [
    "If $r$ is a regular expressions and $n\\in\\mathbb{N}$, then $r\\{n\\}$ is a regular expression.  This regular expression matches exactly $n$ repetitions of $r$.  Formally, we have\n",
    "  $$\\mathcal{L}(r\\{n\\}) = \\mathcal{L}(r\\{n,n\\}).$$"
   ]
  },
  {
   "cell_type": "code",
   "execution_count": 14,
   "metadata": {},
   "outputs": [
    {
     "data": {
      "text/plain": [
       "['aa', 'aa']"
      ]
     },
     "execution_count": 14,
     "metadata": {},
     "output_type": "execute_result"
    }
   ],
   "source": [
    "re.findall(r'a{2}', 'aabaaaba')"
   ]
  },
  {
   "cell_type": "markdown",
   "metadata": {},
   "source": [
    "If $r$ is a regular expressions and $n\\in\\mathbb{N}$, then $r\\{,n\\}$ is a regular expression.  This regular expression matches up to $n$ repetitions of $r$.  Formally, we have\n",
    "  $$\\mathcal{L}(r\\{,n\\}) = \\mathcal{L}(r\\{0,n\\}).$$"
   ]
  },
  {
   "cell_type": "code",
   "execution_count": 15,
   "metadata": {},
   "outputs": [
    {
     "data": {
      "text/plain": [
       "['aa', '', 'aa', 'a', '', '', 'a', '']"
      ]
     },
     "execution_count": 15,
     "metadata": {},
     "output_type": "execute_result"
    }
   ],
   "source": [
    "re.findall(r'a{,2}', 'aabaaabba')"
   ]
  },
  {
   "cell_type": "markdown",
   "metadata": {},
   "source": [
    "If $r$ is a regular expressions and $n\\in\\mathbb{N}$, then $r\\{n,\\}$ is a regular expression.  This regular expression matches $n$ or more repetitions of $r$.  Formally, we have\n",
    "  $$\\mathcal{L}(r\\{n,\\}) = \\mathcal{L}(r\\{n\\}r*).$$"
   ]
  },
  {
   "cell_type": "code",
   "execution_count": 16,
   "metadata": {},
   "outputs": [
    {
     "data": {
      "text/plain": [
       "['aa', 'aaa']"
      ]
     },
     "execution_count": 16,
     "metadata": {},
     "output_type": "execute_result"
    }
   ],
   "source": [
    "re.findall(r'a{2,}', 'aabaaaba')"
   ]
  },
  {
   "cell_type": "markdown",
   "metadata": {},
   "source": [
    "## Non-Greedy Quantifiers\n",
    "\n",
    "The quantifiers `?`, `+`, `*`, `{m,n}`, `{n}`, `{,n}`, and `{n,}` are <em style=\"color:blue\">greedy</em>, i.e. they \n",
    "match the longest possible substrings.  Suffixing these operators with the character `?` makes them \n",
    "<em style=\"color:blue\">non-greedy</em>.  For example, the regular expression `a{2,3}?` matches either \n",
    "two occurrences or three occurrences of the character `a` but will prefer to match only two characters.  Hence, the regular expression `a{2,3}?` will find two matches in the string `'aaaa'`, while the regular expression `a{2,3}` only finds a single match. "
   ]
  },
  {
   "cell_type": "code",
   "execution_count": 17,
   "metadata": {},
   "outputs": [
    {
     "data": {
      "text/plain": [
       "(['aa', 'aa'], ['aaa'])"
      ]
     },
     "execution_count": 17,
     "metadata": {},
     "output_type": "execute_result"
    }
   ],
   "source": [
    "re.findall(r'a{2,3}?', 'aaaa'), re.findall(r'a{2,3}', 'aaaa')"
   ]
  },
  {
   "cell_type": "markdown",
   "metadata": {},
   "source": [
    "## Character Classes\n",
    "\n",
    "In order to match a set of characters we can use a <em style=\"color:blue\">character class</em>.\n",
    "If $c_1$, $\\cdots$, $c_n$ are Unicode characters, then $[c_1\\cdots c_n]$ is a regular expression that \n",
    "matches any of the characters from the set $\\{c_1,\\cdots,c_n\\}$:\n",
    "$$ \\mathcal{L}\\bigl([c_1\\cdots c_n]\\bigr) := \\{ c_1, \\cdots, c_n \\} $$"
   ]
  },
  {
   "cell_type": "code",
   "execution_count": 18,
   "metadata": {},
   "outputs": [
    {
     "data": {
      "text/plain": [
       "['abc', 'cba']"
      ]
     },
     "execution_count": 18,
     "metadata": {},
     "output_type": "execute_result"
    }
   ],
   "source": [
    "re.findall(r'[abc]+', 'abcdcba')"
   ]
  },
  {
   "cell_type": "markdown",
   "metadata": {},
   "source": [
    "Character classes can also contain <em style=\"color:blue\">ranges</em>.  Syntactically, a range has the form\n",
    "$c_1\\texttt{-}c_2$, where $c_1$ and $c_2$ are Unicode characters.\n",
    "For example, the regular expression `[0-9]` contains the range `0-9` and matches any decimal digit.  To find all natural numbers embedded in a string we could use the regular expression `[1-9][0-9]*|[0-9]`.  This regular expression matches either a single digit or a string that starts with a non-zero digit and is followed by any number of digits."
   ]
  },
  {
   "cell_type": "code",
   "execution_count": 19,
   "metadata": {},
   "outputs": [
    {
     "data": {
      "text/plain": [
       "['11', '12', '2345', '0', '0', '7', '42', '0']"
      ]
     },
     "execution_count": 19,
     "metadata": {},
     "output_type": "execute_result"
    }
   ],
   "source": [
    "re.findall(r'[1-9][0-9]*|0', '11 abc 12 2345 007 42 0')"
   ]
  },
  {
   "cell_type": "markdown",
   "metadata": {},
   "source": [
    "Note that the next example looks quite similar but gives a different result:"
   ]
  },
  {
   "cell_type": "code",
   "execution_count": 20,
   "metadata": {},
   "outputs": [
    {
     "data": {
      "text/plain": [
       "['1', '1', '1', '2', '2', '3', '4', '5', '0', '0', '7', '4', '2', '0']"
      ]
     },
     "execution_count": 20,
     "metadata": {},
     "output_type": "execute_result"
    }
   ],
   "source": [
    "re.findall(r'[0-9]|[1-9][0-9]*', '11 abc 12 2345 007 42 0')"
   ]
  },
  {
   "cell_type": "code",
   "execution_count": null,
   "metadata": {},
   "outputs": [],
   "source": [
    "re.findall(r'[1-9][0-9]*|[0-9]', '11 abc 12 2345 007 42 0')"
   ]
  },
  {
   "cell_type": "markdown",
   "metadata": {},
   "source": [
    "Here, the regular expression starts with the alternative `[0-9]`, which matches any single digit. \n",
    "So once a digit is found, the resulting substring is returned and the search starts again.  Therefore, if this regular expression is used in `findall`, it will only return a list of single digits. "
   ]
  },
  {
   "cell_type": "markdown",
   "metadata": {},
   "source": [
    "There are some predefined *character classes*:\n",
    "- `\\d` matches any digit.\n",
    "- `\\D` matches any non-digit character.\n",
    "- `\\s` matches any whitespace character.\n",
    "- `\\S` matches any non-whitespace character.\n",
    "- `\\w` matches any alphanumeric character.\n",
    "  If we would use only <font style=\"font-variant: small-caps\">Ascii</font> characters this would \n",
    "  be equivalent to the character class `[0-9a-zA-Z_]`.\n",
    "- `\\W` matches any non-alphanumeric character.\n",
    "- `\\b` matches at a word boundary.  \n",
    "  The string that is matched is the empty string.\n",
    "- `\\B` matches at any place that is **not** a word boundary.  \n",
    "  Again, the string that is matched is the empty string.\n",
    "\n",
    "These escape sequences can also be used inside of square brackets."
   ]
  },
  {
   "cell_type": "code",
   "execution_count": 21,
   "metadata": {},
   "outputs": [
    {
     "data": {
      "text/plain": [
       "['11', 'abc12', '1a2', '2b3c4d5']"
      ]
     },
     "execution_count": 21,
     "metadata": {},
     "output_type": "execute_result"
    }
   ],
   "source": [
    "re.findall(r'[\\dabcde]+', '11 abc12 1a2 2b3c4d5')"
   ]
  },
  {
   "cell_type": "markdown",
   "metadata": {},
   "source": [
    "Character classes can be negated if the first character after the opening `[` is the character `^`.\n",
    "For example, `[^abc]` matches any character that is different from `a`, `b`, or `c`."
   ]
  },
  {
   "cell_type": "code",
   "execution_count": 22,
   "metadata": {},
   "outputs": [
    {
     "data": {
      "text/plain": [
       "['xyz', 'uvw', 'hij']"
      ]
     },
     "execution_count": 22,
     "metadata": {},
     "output_type": "execute_result"
    }
   ],
   "source": [
    "re.findall(r'[^abc]+', 'axyzbuvwchij')"
   ]
  },
  {
   "cell_type": "code",
   "execution_count": 23,
   "metadata": {},
   "outputs": [
    {
     "data": {
      "text/plain": [
       "['This',\n",
       " 'is',\n",
       " 'some',\n",
       " 'text',\n",
       " 'where',\n",
       " 'we',\n",
       " 'want',\n",
       " 'to',\n",
       " 'extract',\n",
       " 'the',\n",
       " 'words']"
      ]
     },
     "execution_count": 23,
     "metadata": {},
     "output_type": "execute_result"
    }
   ],
   "source": [
    "re.findall(r'\\b\\w+\\b', 'This is some text where we want to extract the words.')"
   ]
  },
  {
   "cell_type": "markdown",
   "metadata": {},
   "source": [
    "The following regular expression uses the character class `\\b` to isolate numbers.  Note that we had to use parentheses since concatenation of regular expressions binds stronger than the choice operator `|`."
   ]
  },
  {
   "cell_type": "code",
   "execution_count": 24,
   "metadata": {},
   "outputs": [
    {
     "data": {
      "text/plain": [
       "['11', '12', '2345', '42', '0']"
      ]
     },
     "execution_count": 24,
     "metadata": {},
     "output_type": "execute_result"
    }
   ],
   "source": [
    "re.findall(r'\\b([1-9][0-9]*|0)\\b', '11 abc 12 2345 007 42 0')"
   ]
  },
  {
   "cell_type": "markdown",
   "metadata": {},
   "source": [
    "## Grouping\n",
    "\n",
    "If $r$ is a regular expression, then $(r)$ is a regular expression describing the same language as \n",
    "$r$.  There are two reasons for using parentheses:\n",
    "- Parentheses can be used to override the precedence of an operator.\n",
    "  This concept is the same as in programming languages.  For example, the regular expression `ab+`\n",
    "  matches the character `a` followed by any positive number of occurrences of the character `b` because\n",
    "  the precedence of a quantifiers is higher than the precedence of concatenation of regular expressions. \n",
    "  However, `(ab)+` matches the strings `ab`, `abab`, `ababab`, and so on.\n",
    "- Parentheses can be used for <em style=\"color:blue\">back-references</em> because inside \n",
    "  a regular expression we can refer to the substring matched by a regular expression enclosed in a pair of\n",
    "  parentheses using the syntax $\\backslash n$ where $n \\in \\{1,\\cdots,9\\}$.\n",
    "  Here, $\\backslash n$ refers to the $n^{\\mathrm{th}}$ parenthesized <em style=\"color:blue\">group</em> in the regular \n",
    "  expression, where a group is defined as any part of the regular expression enclosed in parentheses.\n",
    "  Counting starts with the left parentheses,  For example, the regular expression\n",
    "  ```\n",
    "  (a(b|c)*d)?ef(gh)+\n",
    "  ```\n",
    "  has three groups:\n",
    "  1. `(a(b|c)*d)` is the first group,\n",
    "  2. `(b|c)` is the second group, and\n",
    "  3. `(gh)` is the third group.\n",
    "  \n",
    "  For example, if we want to recognize a string that starts with a number followed by some white space and then\n",
    "  followed by the <b>same</b> number we can use the regular expression `(\\d+)\\w+\\1`."
   ]
  },
  {
   "cell_type": "code",
   "execution_count": 25,
   "metadata": {},
   "outputs": [
    {
     "data": {
      "text/plain": [
       "['12', '23']"
      ]
     },
     "execution_count": 25,
     "metadata": {},
     "output_type": "execute_result"
    }
   ],
   "source": [
    "re.findall(r'(\\d+)\\s+\\1', '12 12 12, 23 23 17 18')"
   ]
  },
  {
   "cell_type": "markdown",
   "metadata": {},
   "source": [
    "In general, given a digit $n$, the expression $\\backslash n$ refers to the string matched in the $n$-th group of the regular expression."
   ]
  },
  {
   "cell_type": "markdown",
   "metadata": {},
   "source": [
    "## The Dot\n",
    "\n",
    "The regular expression `.` matches any character except the newline.  For example, `c.*?t` matches any string that starts with the character `c` and ends with the character `t` and does not contain any newline.  If we are using the non-greedy version of the quantifier `*`, we can find all such words in the string below."
   ]
  },
  {
   "cell_type": "code",
   "execution_count": 26,
   "metadata": {
    "scrolled": true
   },
   "outputs": [
    {
     "data": {
      "text/plain": [
       "['ct cat caat could we look at that']"
      ]
     },
     "execution_count": 26,
     "metadata": {},
     "output_type": "execute_result"
    }
   ],
   "source": [
    "re.findall(r'c.*?t', 'ct cat caat could we look at that!')"
   ]
  },
  {
   "cell_type": "markdown",
   "metadata": {},
   "source": [
    "The dot `.` does not have any special meaning when used inside a character range.  Hence, the regular expression\n",
    "`[.]` matches only the character `.`."
   ]
  },
  {
   "cell_type": "markdown",
   "metadata": {},
   "source": [
    "## Named Groups\n",
    "\n",
    "Referencing a group via the syntax `\\n` where `n` is a natural number is both cumbersome and error-prone.  Instead, we can use *named groups*. \n",
    "The syntax to define a named group is \n",
    "```\n",
    "(?P<name>r)\n",
    "```\n",
    "where `name` is the name of the group and `r` is the regular expression.  To refer to the string matched by this group we use the following syntax:\n",
    "```\n",
    "(?P=name)\n",
    "```\n",
    "For example, below we try to find a string of alphanumeric characters that is either contained in single quotes or in double quotes.  The regular\n",
    "expression `[\\'\"]` matches either a single or a double quote.  By referring to the regular expression that has been named\n",
    "`quote` we ensure that an opening single quote is matched by a closing single quote and an opening double quote is matched by a \n",
    "closing double quote."
   ]
  },
  {
   "cell_type": "code",
   "execution_count": 27,
   "metadata": {},
   "outputs": [
    {
     "data": {
      "text/plain": [
       "[('\"uvw\"', '\"'), (\"'xyz'\", \"'\")]"
      ]
     },
     "execution_count": 27,
     "metadata": {},
     "output_type": "execute_result"
    }
   ],
   "source": [
    "re.findall(r'((?P<quote>[\\'\"])\\w*(?P=quote))', 'abc \"uvw\" and \\'xyz\\'')"
   ]
  },
  {
   "cell_type": "markdown",
   "metadata": {},
   "source": [
    "## Start and End of a Line"
   ]
  },
  {
   "cell_type": "markdown",
   "metadata": {},
   "source": [
    "The regular expression `^` matches at the start of a string.  If we set the flag `re.MULTILINE`, which we \n",
    "will usually do when working with this regular expression containing the expression `^`, \n",
    "then `^` also matches at the beginning of each line,\n",
    "i.e. it matches after every newline character.\n",
    "\n",
    "Similarly, the regular expression `$` matches at the end of a string.  If we set the flag `re.MULTILINE`, then `$` also matches at the end of each line,\n",
    "i.e. it matches before every newline character."
   ]
  },
  {
   "cell_type": "code",
   "execution_count": 28,
   "metadata": {},
   "outputs": [
    {
     "data": {
      "text/plain": [
       "['This is a text containing five lines, two of which are empty.',\n",
       " 'This is the second non-empty line,',\n",
       " 'and this is the third non-empty line.']"
      ]
     },
     "execution_count": 28,
     "metadata": {},
     "output_type": "execute_result"
    }
   ],
   "source": [
    "data = \\\n",
    "'''\n",
    "This is a text containing five lines, two of which are empty.\n",
    "This is the second non-empty line,\n",
    "\n",
    "and this is the third non-empty line.\n",
    "'''\n",
    "re.findall(r'^.+$', data, flags=re.MULTILINE)"
   ]
  },
  {
   "cell_type": "markdown",
   "metadata": {},
   "source": [
    "## Lookahead Assertions"
   ]
  },
  {
   "cell_type": "markdown",
   "metadata": {},
   "source": [
    "Sometimes we need to look ahead in order to know whether we have found what we are looking for.  Consider the case that you want to add up all numbers followed by a dollar symbol but you are not interested in any other numbers.  In this case a \n",
    "*lookahead assertion* comes in handy.  The syntax of a lookahead assertion is:\n",
    "$$ r_1 (\\texttt{?=}r_2) $$\n",
    "Here $r_1$ and $r_2$ are regular expressions and `?=` is the <em style=\"color:blue\">lookahead operator</em>.  $r_1$ is the regular expression you are searching for while $r_2$ is the regular expression describing the lookahead.  Note that this lookahead is **not** matched.  It is only checked whether $r_1$ is followed by $r_2$ but only the text matching $r_1$ is matched.   Syntactically, the\n",
    "lookahead $r_2$ has to be preceded by the lookahead operator and both have to be surrounded by parentheses.\n",
    "\n",
    "In the following example we are looking for all numbers that are followed by dollar symbols and we sum these numbers up."
   ]
  },
  {
   "cell_type": "code",
   "execution_count": 29,
   "metadata": {},
   "outputs": [
    {
     "name": "stdout",
     "output_type": "stream",
     "text": [
      "L = ['1', '42']\n"
     ]
    },
    {
     "data": {
      "text/plain": [
       "43"
      ]
     },
     "execution_count": 29,
     "metadata": {},
     "output_type": "execute_result"
    }
   ],
   "source": [
    "text = 'Here is 1$, here are 21€, and there are 42 $.'\n",
    "L = re.findall(r'([0-9]+)(?=\\s*\\$)', text)\n",
    "print(f'L = {L}')\n",
    "sum(int(x) for x in L)"
   ]
  },
  {
   "cell_type": "markdown",
   "metadata": {},
   "source": [
    "There are also <em style=\"color:blue\">negative lookahead assertion</em>.  The syntax is:\n",
    "$$ r_1 (\\texttt{?!}r_2)  $$\n",
    "Here $r_1$ and $r_2$ are regular expressions and `?!` is the <em style=\"color:blue\">negative lookahead operator</em>. \n",
    "The expression above checks for all occurrences of $r_1$ that are <b>not</b> followed by $r_2$.  \n",
    "\n",
    "In the following examples we sum up all numbers that are <u>not</u> followed by a dollar symbol.\n",
    "Note that the lookahead expression has to ensure that there are no additional digits.  In general, negative lookahead is very tricky and I recommend against using it."
   ]
  },
  {
   "cell_type": "code",
   "execution_count": 30,
   "metadata": {},
   "outputs": [
    {
     "name": "stdout",
     "output_type": "stream",
     "text": [
      "L = ['21']\n"
     ]
    },
    {
     "data": {
      "text/plain": [
       "21"
      ]
     },
     "execution_count": 30,
     "metadata": {},
     "output_type": "execute_result"
    }
   ],
   "source": [
    "text = 'Here is 1$, here are 21 €, and there are 42 $.'\n",
    "L = re.findall(r'[0-9]+(?![0-9]*\\s*\\$)', text)\n",
    "print(f'L = {L}')\n",
    "sum(int(x) for x in L)"
   ]
  },
  {
   "cell_type": "markdown",
   "metadata": {},
   "source": [
    "## Examples"
   ]
  },
  {
   "cell_type": "markdown",
   "metadata": {},
   "source": [
    "In order to have some strings to play with, let us read the file `alice.txt`, which contains the book\n",
    "[Alice's Adventures in Wonderland](https://en.wikipedia.org/wiki/Alice%27s_Adventures_in_Wonderland) written by \n",
    "[Lewis Carroll](https://en.wikipedia.org/wiki/Lewis_Carroll)."
   ]
  },
  {
   "cell_type": "code",
   "execution_count": 31,
   "metadata": {},
   "outputs": [],
   "source": [
    "with open('alice.txt', 'r') as f:\n",
    "    text = f.read()"
   ]
  },
  {
   "cell_type": "code",
   "execution_count": 32,
   "metadata": {},
   "outputs": [
    {
     "name": "stdout",
     "output_type": "stream",
     "text": [
      "\n",
      "                ALICE'S ADVENTURES IN WONDERLAND\n",
      "\n",
      "                          Lewis Carroll\n",
      "\n",
      "               THE MILLENNIUM FULCRUM EDITION 3.0\n",
      "\n",
      "\n",
      "\n",
      "\n",
      "                            CHAPTER I\n",
      "\n",
      "                      Down the Rabbit-Hole\n",
      "\n",
      "\n",
      "  Alice was beginning to get very tired of sitting by her sister\n",
      "on the bank, and of having nothing to do:  once or twice she had\n",
      "peeped into the book her sister was reading, but it had no\n",
      "pictures or conversations in it, `and what is the use of a book,'\n",
      "thought Alice `without pictures or conversation?'\n",
      "\n",
      "  So she was considering in her own mind (as well as she could,\n",
      "for the hot day made her feel very sleepy and stupid), whether\n",
      "the pleasure of making a daisy-chain would be worth the trouble\n",
      "of getting up and picking the daisies, when suddenly a White\n",
      "Rabbit with pink eyes ran close by her.\n",
      "\n",
      "  There was nothing so VERY remarkable in that; nor did Alice\n",
      "think it so VERY much out of the way to hear the Rabbit say to\n",
      "itself, `Oh dear!  Oh dear!  I shall be late!'  (when she thought\n",
      "\n"
     ]
    }
   ],
   "source": [
    "print(text[:1020])"
   ]
  },
  {
   "cell_type": "markdown",
   "metadata": {},
   "source": [
    "How many non-empty lines does this story have?"
   ]
  },
  {
   "cell_type": "code",
   "execution_count": 33,
   "metadata": {},
   "outputs": [
    {
     "data": {
      "text/plain": [
       "2725"
      ]
     },
     "execution_count": 33,
     "metadata": {},
     "output_type": "execute_result"
    }
   ],
   "source": [
    "len(re.findall(r'^.*\\S.*$', text, flags=re.MULTILINE))"
   ]
  },
  {
   "cell_type": "markdown",
   "metadata": {},
   "source": [
    "Next, let us check whether this text is suitable for minors.  In order to do so we search for all *four\n",
    "letter words* that start with either `d`, `f` or `s` and end with `k` or `t`."
   ]
  },
  {
   "cell_type": "code",
   "execution_count": 34,
   "metadata": {},
   "outputs": [
    {
     "data": {
      "text/plain": [
       "{'Duck',\n",
       " 'FOOT',\n",
       " 'dark',\n",
       " 'desk',\n",
       " 'duck',\n",
       " 'fact',\n",
       " 'fast',\n",
       " 'feet',\n",
       " 'felt',\n",
       " 'flat',\n",
       " 'foot',\n",
       " 'fork',\n",
       " 'salt',\n",
       " 'sent',\n",
       " 'shut',\n",
       " 'sink',\n",
       " 'soft',\n",
       " 'sort',\n",
       " 'spot',\n",
       " 'suet',\n",
       " 'suit'}"
      ]
     },
     "execution_count": 34,
     "metadata": {},
     "output_type": "execute_result"
    }
   ],
   "source": [
    "set(re.findall(r'\\b[dfs]\\w{2}[kt]\\b', text, flags=re.IGNORECASE))"
   ]
  },
  {
   "cell_type": "markdown",
   "metadata": {},
   "source": [
    "How many words are in this text and how many different words are used?"
   ]
  },
  {
   "cell_type": "code",
   "execution_count": 35,
   "metadata": {},
   "outputs": [
    {
     "name": "stdout",
     "output_type": "stream",
     "text": [
      "There are 27344 words in this book and 2579 different words.\n"
     ]
    }
   ],
   "source": [
    "L = re.findall(r'\\b\\w+\\b', text.lower())\n",
    "S = set(L)\n",
    "print(f'There are {len(L)} words in this book and {len(S)} different words.')"
   ]
  },
  {
   "cell_type": "code",
   "execution_count": null,
   "metadata": {},
   "outputs": [],
   "source": []
  }
 ],
 "metadata": {
  "@webio": {
   "lastCommId": null,
   "lastKernelId": null
  },
  "kernelspec": {
   "display_name": ".venv",
   "language": "python",
   "name": "python3"
  },
  "language_info": {
   "codemirror_mode": {
    "name": "ipython",
    "version": 3
   },
   "file_extension": ".py",
   "mimetype": "text/x-python",
   "name": "python",
   "nbconvert_exporter": "python",
   "pygments_lexer": "ipython3",
   "version": "3.13.7"
  },
  "varInspector": {
   "cols": {
    "lenName": 16,
    "lenType": 16,
    "lenVar": 40
   },
   "kernels_config": {
    "python": {
     "delete_cmd_postfix": "",
     "delete_cmd_prefix": "del ",
     "library": "var_list.py",
     "varRefreshCmd": "print(var_dic_list())"
    },
    "r": {
     "delete_cmd_postfix": ") ",
     "delete_cmd_prefix": "rm(",
     "library": "var_list.r",
     "varRefreshCmd": "cat(var_dic_list()) "
    }
   },
   "types_to_exclude": [
    "module",
    "function",
    "builtin_function_or_method",
    "instance",
    "_Feature"
   ],
   "window_display": false
  }
 },
 "nbformat": 4,
 "nbformat_minor": 4
}
