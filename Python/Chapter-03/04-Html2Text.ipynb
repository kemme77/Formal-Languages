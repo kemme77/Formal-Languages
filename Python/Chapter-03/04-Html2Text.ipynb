{
 "cells": [
  {
   "cell_type": "code",
   "execution_count": 1,
   "metadata": {},
   "outputs": [
    {
     "data": {
      "text/html": [
       "<link href='http://fonts.googleapis.com/css?family=Alegreya+Sans:100,300,400,500,700,800,900,100italic,300italic,400italic,500italic,700italic,800italic,900italic' rel='stylesheet' type='text/css'>\n",
       "<link href='http://fonts.googleapis.com/css?family=Arvo:400,700,400italic' rel='stylesheet' type='text/css'>\n",
       "<link href='http://fonts.googleapis.com/css?family=PT+Mono' rel='stylesheet' type='text/css'>\n",
       "<link href='http://fonts.googleapis.com/css?family=Shadows+Into+Light' rel='stylesheet' type='text/css'>\n",
       "<link href='http://fonts.googleapis.com/css?family=Philosopher:400,700,400italic,700italic' rel='stylesheet' type='text/css'>\n",
       "<link href=\"http://fonts.googleapis.com/css?family=Sacramento\" rel=\"stylesheet\" type=\"text/css\">\n",
       "\n",
       "<style>\n",
       "\n",
       "@font-face {\n",
       "    font-family: \"Computer Modern\";\n",
       "    src: url('http://mirrors.ctan.org/fonts/cm-unicode/fonts/otf/cmunss.otf');\n",
       "}\n",
       "\n",
       ".container { width: 100% }\n",
       "\n",
       "/* Formatting for header cells */\n",
       ".text_cell_render h1 {\n",
       "    font-family: 'Philosopher', sans-serif;\n",
       "    font-weight: 400;\n",
       "    font-size: 2.2em;\n",
       "    line-height: 100%;\n",
       "    color: rgb(0, 80, 120);\n",
       "    margin-bottom: 0.1em;\n",
       "    margin-top: 0.1em;\n",
       "    display: block;\n",
       "}\t\n",
       ".text_cell_render h2 {\n",
       "    font-family: 'Philosopher', serif;\n",
       "    font-weight: 400;\n",
       "    font-size: 1.9em;\n",
       "    line-height: 100%;\n",
       "    color: rgb(200,100,0);\n",
       "    margin-bottom: 0.1em;\n",
       "    margin-top: 0.1em;\n",
       "    display: block;\n",
       "}\t\n",
       "\n",
       ".text_cell_render h3 {\n",
       "    font-family: 'Philosopher', serif;\n",
       "    margin-top:12px;\n",
       "    margin-bottom: 3px;\n",
       "    font-style: italic;\n",
       "    color: rgb(94,127,192);\n",
       "}\n",
       "\n",
       ".text_cell_render h4 {\n",
       "    font-family: 'Philosopher', serif;\n",
       "}\n",
       "\n",
       ".text_cell_render h5 {\n",
       "    font-family: 'Alegreya Sans', sans-serif;\n",
       "    font-weight: 300;\n",
       "    font-size: 16pt;\n",
       "    color: grey;\n",
       "    font-style: italic;\n",
       "    margin-bottom: .1em;\n",
       "    margin-top: 0.1em;\n",
       "    display: block;\n",
       "}\n",
       "\n",
       ".text_cell_render h6 {\n",
       "    font-family: 'PT Mono', sans-serif;\n",
       "    font-weight: 300;\n",
       "    font-size: 10pt;\n",
       "    color: grey;\n",
       "    margin-bottom: 1px;\n",
       "    margin-top: 1px;\n",
       "}\n",
       "\n",
       ".text_cell_render em {\n",
       "    font-family: 'Philosopher', sans-serif;\n",
       "    color:        blue;\n",
       "    background-color: rgb(255,220,180);\n",
       "    font-size:    110%;\n",
       "    margin-left:   2px;\n",
       "    margin-right:  2px;\n",
       "    font-weight:   100;\n",
       "}\n",
       "\n",
       ".text_cell_render b {\n",
       "    color:            rgb(255,195,195);\n",
       "    background-color: rgb(0,0,0);\n",
       "    font-size:    110%;\n",
       "    margin-left:   2px;\n",
       "    margin-right:  2px;\n",
       "    font-weight:   650;\n",
       "}\n",
       "\n",
       ".text_cell_render u {\n",
       "    color:            blue;\n",
       "    font-size:    110%;\n",
       "    margin-left:   2px;\n",
       "    margin-right:  2px;\n",
       "    font-weight:   650;\n",
       "}\n",
       "\n",
       ".text_cell_render tt {\n",
       "    font-size:    120%;\n",
       "    margin-left:   2px;\n",
       "    margin-right:  2px;\n",
       "    font-weight:   150;\n",
       "}\n",
       "\n",
       ".Codemirror {\n",
       "    font-family: \"PT Mono\";\n",
       "    font-size: 100%;\n",
       "}\n",
       "\n",
       "#fancy {\n",
       "    font-family:      Georgia;\n",
       "    position:         relative;\n",
       "    float:            left;\n",
       "    border:           2px solid red;\n",
       "    width:            600px;\n",
       "    padding-left:     20px;\n",
       "    padding-right:    20px;\n",
       "    padding-top:      10px;\n",
       "    font-family:      'Sacramento', cursive;\n",
       "    font-size:        26px;\n",
       "    background-color: #F4EBF3;\n",
       "    border-radius:    15px;\n",
       "}\n",
       "\n",
       "</Style>\n",
       "\n"
      ],
      "text/plain": [
       "<IPython.core.display.HTML object>"
      ]
     },
     "execution_count": 1,
     "metadata": {},
     "output_type": "execute_result"
    }
   ],
   "source": [
    "from IPython.display import HTML\n",
    "HTML(open('../style.css').read())"
   ]
  },
  {
   "cell_type": "markdown",
   "metadata": {},
   "source": [
    "# Converting <span style=\"font-variant:small-caps;\">Html</span> to Text\n",
    "\n",
    "This notebook shows how we can use the package [`ply`](https://ply.readthedocs.io/en/latest/ply.html)\n",
    "to extract the text that is embedded in an <span style=\"font-variant:small-caps;\">Html</span> file.  \n",
    "In order to be concise, it only supports a small subset of \n",
    "<span style=\"font-variant:small-caps;\">Html</span>.  Below is the content of my old\n",
    "<a href=\"http://wwwlehre.dhbw-stuttgart.de/~stroetma/\">web page</a> that I had used when I was still working at the DHBW Stuttgart.  The goal of this notebook is to write \n",
    "a scanner that is able to extract the text from this web page."
   ]
  },
  {
   "cell_type": "code",
   "execution_count": 2,
   "metadata": {},
   "outputs": [],
   "source": [
    "data = \\\n",
    "'''\n",
    "<!doctype html>\n",
    "<html>\n",
    "  <head>\n",
    "    <meta charset=\"utf-8\">\n",
    "    <title>Homepage of Prof. Dr. Karl Stroetmann</title>\n",
    "    <link type=\"text/css\" rel=\"stylesheet\" href=\"style.css\" />\n",
    "    <link href=\"http://fonts.googleapis.com/css?family=Rochester&subset=latin,latin-ext\"\n",
    "          rel=\"stylesheet\" type=\"text/css\">\n",
    "    <link href=\"http://fonts.googleapis.com/css?family=Pacifico&subset=latin,latin-ext\"\n",
    "          rel=\"stylesheet\" type=\"text/css\">\n",
    "    <link href=\"http://fonts.googleapis.com/css?family=Cabin+Sketch&subset=latin,latin-ext\" rel=\"stylesheet\" type=\"text/css\">\n",
    "    <link href=\"http://fonts.googleapis.com/css?family=Sacramento\" rel=\"stylesheet\" type=\"text/css\">\n",
    "  </head>\n",
    "  <body>\n",
    "    <hr/>\n",
    "\n",
    "    <div id=\"table\">\n",
    "      <header>\n",
    "        <h1 id=\"name\">Prof. Dr. Karl Stroetmann</h1>\n",
    "      </header>\n",
    "\n",
    "      <div id=\"row1\">\n",
    "        <div class=\"right\">\n",
    "          <a id=\"dhbw\" href=\"http://www.ba-stuttgart.de\">Duale Hochschule Baden-W&uuml;rttemberg</a>\n",
    "          <br/>Coblitzallee 1-9\n",
    "          <br/>68163 Mannheim\n",
    "          <br/>Germany\n",
    "\t  <br>\n",
    "          <br/>Office: &nbsp;&nbsp;&nbsp; Raum 344B\n",
    "          <br/>Phone:&nbsp;&nbsp;&nbsp; +49 621 4105-1376\n",
    "          <br/>Fax:&nbsp;&nbsp;&nbsp;&nbsp;&nbsp;&nbsp;&nbsp; +49 621 4105-1194\n",
    "          <br/>Skype: &nbsp;&nbsp;&nbsp; karlstroetmann\n",
    "        </div>  \n",
    "\n",
    "\n",
    "        <div id=\"links\">\n",
    "          <strong class=\"some\">Some links:</strong>\n",
    "          <ul class=\"inlink\">\n",
    "            <li class=\"inlink\">\n",
    "\t      My <a class=\"inlink\" href=\"https://github.com/karlstroetmann?tab=repositories\">lecture notes</a>,\n",
    "              as well as the programs presented in class, can be found\n",
    "              at <br>\n",
    "              <a class=\"inlink\" href=\"https://github.com/karlstroetmann?tab=repositories\">https://github.com/karlstroetmann</a>.\n",
    "              \n",
    "            </li>\n",
    "            <li class=\"inlink\">Most of my papers can be found at <a class=\"inlink\" href=\"https://www.researchgate.net/\">researchgate.net</a>.</li>\n",
    "            <li class=\"inlink\">The programming language SetlX can be downloaded at <br>\n",
    "              <a href=\"http://randoom.org/Software/SetlX\"><tt class=\"inlink\">http://randoom.org/Software/SetlX</tt></a>.\n",
    "            </li>\n",
    "          </ul>\n",
    "        </div>\n",
    "      </div>\n",
    "    </div>\n",
    "    \n",
    "    <div id=\"intro\">\n",
    "      As I am getting old and wise, I have to accept the limits of\n",
    "      my own capabilities.  I have condensed these deep philosophical\n",
    "      insights into a most beautiful pearl of poetry.  I would like \n",
    "      to share these humble words of wisdom:\n",
    "      \n",
    "      <div class=\"poetry\">\n",
    "        I am a teacher by profession,    <br>\n",
    "        mostly really by obsession;      <br>\n",
    "        But even though I boldly try,    <br>\n",
    "        I just cannot teach <a href=\"flying-pig.jpg\" id=\"fp\">pigs</a> to fly.</br>\n",
    "        Instead, I slaughter them and fry.\n",
    "      </div>\n",
    "      \n",
    "      <div class=\"citation\">\n",
    "        <div class=\"quote\">\n",
    "          Any sufficiently advanced poetry is indistinguishable from divine wisdom.\n",
    "        </div>\n",
    "        <div id=\"sign\">His holiness Pope Hugo &#8555;.</div>\n",
    "      </div>\n",
    "    </div>\n",
    "</div>\n",
    "\n",
    "</body>\n",
    "</html>\n",
    "'''"
   ]
  },
  {
   "cell_type": "code",
   "execution_count": 3,
   "metadata": {},
   "outputs": [],
   "source": [
    "from IPython.core.display import HTML"
   ]
  },
  {
   "cell_type": "code",
   "execution_count": 4,
   "metadata": {},
   "outputs": [
    {
     "data": {
      "text/html": [
       "\n",
       "<!doctype html>\n",
       "<html>\n",
       "  <head>\n",
       "    <meta charset=\"utf-8\">\n",
       "    <title>Homepage of Prof. Dr. Karl Stroetmann</title>\n",
       "    <link type=\"text/css\" rel=\"stylesheet\" href=\"style.css\" />\n",
       "    <link href=\"http://fonts.googleapis.com/css?family=Rochester&subset=latin,latin-ext\"\n",
       "          rel=\"stylesheet\" type=\"text/css\">\n",
       "    <link href=\"http://fonts.googleapis.com/css?family=Pacifico&subset=latin,latin-ext\"\n",
       "          rel=\"stylesheet\" type=\"text/css\">\n",
       "    <link href=\"http://fonts.googleapis.com/css?family=Cabin+Sketch&subset=latin,latin-ext\" rel=\"stylesheet\" type=\"text/css\">\n",
       "    <link href=\"http://fonts.googleapis.com/css?family=Sacramento\" rel=\"stylesheet\" type=\"text/css\">\n",
       "  </head>\n",
       "  <body>\n",
       "    <hr/>\n",
       "\n",
       "    <div id=\"table\">\n",
       "      <header>\n",
       "        <h1 id=\"name\">Prof. Dr. Karl Stroetmann</h1>\n",
       "      </header>\n",
       "\n",
       "      <div id=\"row1\">\n",
       "        <div class=\"right\">\n",
       "          <a id=\"dhbw\" href=\"http://www.ba-stuttgart.de\">Duale Hochschule Baden-W&uuml;rttemberg</a>\n",
       "          <br/>Coblitzallee 1-9\n",
       "          <br/>68163 Mannheim\n",
       "          <br/>Germany\n",
       "\t  <br>\n",
       "          <br/>Office: &nbsp;&nbsp;&nbsp; Raum 344B\n",
       "          <br/>Phone:&nbsp;&nbsp;&nbsp; +49 621 4105-1376\n",
       "          <br/>Fax:&nbsp;&nbsp;&nbsp;&nbsp;&nbsp;&nbsp;&nbsp; +49 621 4105-1194\n",
       "          <br/>Skype: &nbsp;&nbsp;&nbsp; karlstroetmann\n",
       "        </div>  \n",
       "\n",
       "\n",
       "        <div id=\"links\">\n",
       "          <strong class=\"some\">Some links:</strong>\n",
       "          <ul class=\"inlink\">\n",
       "            <li class=\"inlink\">\n",
       "\t      My <a class=\"inlink\" href=\"https://github.com/karlstroetmann?tab=repositories\">lecture notes</a>,\n",
       "              as well as the programs presented in class, can be found\n",
       "              at <br>\n",
       "              <a class=\"inlink\" href=\"https://github.com/karlstroetmann?tab=repositories\">https://github.com/karlstroetmann</a>.\n",
       "\n",
       "            </li>\n",
       "            <li class=\"inlink\">Most of my papers can be found at <a class=\"inlink\" href=\"https://www.researchgate.net/\">researchgate.net</a>.</li>\n",
       "            <li class=\"inlink\">The programming language SetlX can be downloaded at <br>\n",
       "              <a href=\"http://randoom.org/Software/SetlX\"><tt class=\"inlink\">http://randoom.org/Software/SetlX</tt></a>.\n",
       "            </li>\n",
       "          </ul>\n",
       "        </div>\n",
       "      </div>\n",
       "    </div>\n",
       "\n",
       "    <div id=\"intro\">\n",
       "      As I am getting old and wise, I have to accept the limits of\n",
       "      my own capabilities.  I have condensed these deep philosophical\n",
       "      insights into a most beautiful pearl of poetry.  I would like \n",
       "      to share these humble words of wisdom:\n",
       "\n",
       "      <div class=\"poetry\">\n",
       "        I am a teacher by profession,    <br>\n",
       "        mostly really by obsession;      <br>\n",
       "        But even though I boldly try,    <br>\n",
       "        I just cannot teach <a href=\"flying-pig.jpg\" id=\"fp\">pigs</a> to fly.</br>\n",
       "        Instead, I slaughter them and fry.\n",
       "      </div>\n",
       "\n",
       "      <div class=\"citation\">\n",
       "        <div class=\"quote\">\n",
       "          Any sufficiently advanced poetry is indistinguishable from divine wisdom.\n",
       "        </div>\n",
       "        <div id=\"sign\">His holiness Pope Hugo &#8555;.</div>\n",
       "      </div>\n",
       "    </div>\n",
       "</div>\n",
       "\n",
       "</body>\n",
       "</html>\n"
      ],
      "text/plain": [
       "<IPython.core.display.HTML object>"
      ]
     },
     "execution_count": 4,
     "metadata": {},
     "output_type": "execute_result"
    }
   ],
   "source": [
    "HTML(data)"
   ]
  },
  {
   "cell_type": "markdown",
   "metadata": {},
   "source": [
    "The original web page is still available at https://wwwlehre.dhbw-stuttgart.de/~stroetma/."
   ]
  },
  {
   "cell_type": "markdown",
   "metadata": {},
   "source": [
    "## Imports"
   ]
  },
  {
   "cell_type": "markdown",
   "metadata": {},
   "source": [
    "We will use the package [ply](https://ply.readthedocs.io/en/latest/ply.html) to remove the \n",
    "<span style=\"font-variant:small-caps;\">Html</span> tags and extract the text that\n",
    "is embedded in the <span style=\"font-variant:small-caps;\">Html</span> shown above.\n",
    "In this example, we will only use the scanner that is provided by the module `ply.lex`. \n",
    "Hence we import the module `ply.lex` that contains the scanner generator from `ply`."
   ]
  },
  {
   "cell_type": "code",
   "execution_count": 5,
   "metadata": {},
   "outputs": [],
   "source": [
    "import ply.lex as lex"
   ]
  },
  {
   "cell_type": "markdown",
   "metadata": {},
   "source": [
    "## Token Declarations"
   ]
  },
  {
   "cell_type": "markdown",
   "metadata": {},
   "source": [
    "We begin by declaring the tokens.  Note that the variable `tokens` is a keyword of `ply` to define the names of the token classes.  In this case, we have declared nine different tokens.\n",
    "- `HEAD_START` will match the tag `<head>` that starts the definition of the \n",
    "  <span style=\"font-variant:small-caps;\">Html</span> header.\n",
    "- `HEAD_END` will match the tag `</head>` that ends the definition of the \n",
    "  <span style=\"font-variant:small-caps;\">Html</span> header.\n",
    "- `SCRIPT_START` will match the tag `<script>` that starts embedded *JavaScript* code.\n",
    "- `SCRIPT_END` will match the tag `</script>` that ends embedded *JavaScript* code.\n",
    "- `TAG` is a token that represents arbitrary <span style=\"font-variant:small-caps;\">Html</span> tags.\n",
    "  These can be opening tags or closing tags.\n",
    "- `LINEBREAK` is a token that will match the newline character `\\n` at the end of a line.\n",
    "- `NAMED_ENTITY` is a token that represents named \n",
    "  <span style=\"font-variant:small-caps;\">Html5</span> entities.\n",
    "- `UNICODE` is a token that represents a unicode entity.\n",
    "- `ANY` is a token that matches any character."
   ]
  },
  {
   "cell_type": "code",
   "execution_count": 6,
   "metadata": {},
   "outputs": [],
   "source": [
    "tokens = [ 'HEAD_START',     # r'<head>'\n",
    "           'HEAD_END',       # r'</head>'\n",
    "           'SCRIPT_START',   # r'<script>'\n",
    "           'SCRIPT_END',     # r'</script>'\n",
    "           'TAG',            # r'<[^>]+>'\n",
    "           'LINEBREAK',      # r'(\\s*\\n\\s*)+'\n",
    "           'NAMED_ENTITY',   # r'&[a-zA-Z]+;?'\n",
    "           'UNICODE',        # r'&\\#[0-9]+;?'\n",
    "           'ANY'             # r'.'\n",
    "         ]"
   ]
  },
  {
   "cell_type": "markdown",
   "metadata": {},
   "source": [
    "## Definition of the States"
   ]
  },
  {
   "cell_type": "markdown",
   "metadata": {},
   "source": [
    "Once we are inside an <span style=\"font-variant:small-caps;\">Html</span> header or inside of some\n",
    "*JavaScript* code the rules of the scanning game change.  Therefore, we declare two new <em style=\"color:blue\">exclusive scanner states</em>:\n",
    "- `header` is the state the scanner is in while it is scanning an \n",
    "  <span style=\"font-variant:small-caps;\">Html</span> header.\n",
    "- `script` is the state of the scanner while scanning *JavaScript* code.  \n",
    "\n",
    "These states are *exclusive* states and hence the other token definitions do not apply in these\n",
    "states."
   ]
  },
  {
   "cell_type": "code",
   "execution_count": 7,
   "metadata": {},
   "outputs": [],
   "source": [
    "states = [ ('header', 'exclusive'),\n",
    "           ('script', 'exclusive')\n",
    "         ]"
   ]
  },
  {
   "cell_type": "markdown",
   "metadata": {},
   "source": [
    "## Token Definitions"
   ]
  },
  {
   "cell_type": "markdown",
   "metadata": {},
   "source": [
    "We proceed to give the definition of the tokens.  Note that none of the function defined below\n",
    "returns a token.  Rather all of these function print the transformation of the \n",
    "<span style=\"font-variant:small-caps;\">Html</span> that they have matched."
   ]
  },
  {
   "cell_type": "markdown",
   "metadata": {},
   "source": [
    "### The Definition of the Token `HEAD_START`"
   ]
  },
  {
   "cell_type": "markdown",
   "metadata": {},
   "source": [
    "Once the scanner reads the opening tag `<head>` it switches into the state `header`.  The function `begin` of the lexer can be used to switch into a different scanner state.  In the state `header`, the scanner continues to read and discard characters until the closing tag `</head>` is encountered.  Note that this token is only recognized in the state `INITIAL`.  The state `INITIAL` is the initial state of the scanner, i.e. the scanner always starts in this state."
   ]
  },
  {
   "cell_type": "code",
   "execution_count": 8,
   "metadata": {},
   "outputs": [],
   "source": [
    "def t_HEAD_START(t):\n",
    "    r'<head>'\n",
    "    t.lexer.begin('header')"
   ]
  },
  {
   "cell_type": "markdown",
   "metadata": {},
   "source": [
    "### The Definition of the Token `SCRIPT_START`\n",
    "\n",
    "Once the scanner reads the opening tag `<script>` it switches into the state `script`.  In this state it will continue to read and discard characters until it sees the closing tag `</script>`."
   ]
  },
  {
   "cell_type": "code",
   "execution_count": 9,
   "metadata": {},
   "outputs": [],
   "source": [
    "def t_SCRIPT_START(t):\n",
    "    r'<script>'\n",
    "    t.lexer.begin('script')"
   ]
  },
  {
   "cell_type": "markdown",
   "metadata": {},
   "source": [
    "### The Definition of the Token `LINEBREAK``\n",
    "\n",
    "Groups of newline characters are condensed into a single newline character.\n",
    "As we are not interested in the variable `t.lexer.lineno` in this example, we don't have to count the newlines.\n",
    "This token is active in the `INITIAL` state."
   ]
  },
  {
   "cell_type": "code",
   "execution_count": 10,
   "metadata": {},
   "outputs": [],
   "source": [
    "def t_LINEBREAK(t):\n",
    "    r'(\\s*\\n\\s*)+'\n",
    "    print()"
   ]
  },
  {
   "cell_type": "markdown",
   "metadata": {},
   "source": [
    "### The Definition of the Token `TAG`\n",
    "\n",
    "The token `TAG` is defined as any string that starts with the character `<` and ends with the character \n",
    "`>`. Betweens these two characters there has to be a nonzero number of characters that are different from \n",
    "the character `>`.  The text of the token is discarded."
   ]
  },
  {
   "cell_type": "code",
   "execution_count": 11,
   "metadata": {},
   "outputs": [],
   "source": [
    "def t_TAG(t):\n",
    "    r'<[^>]+>'"
   ]
  },
  {
   "cell_type": "markdown",
   "metadata": {},
   "source": [
    "### The Definition of the Token `NAMED_ENTITY`\n",
    "\n",
    "In order to support named <span style=\"font-variant:small-caps;\">Html</span> entities we need to import\n",
    "the dictionary `html5` from the module `html.entities`.  For every named \n",
    "<span style=\"font-variant:small-caps;\">Html</span> entity `e`, `html[e]` is the unicode symbol that is specified by `e`."
   ]
  },
  {
   "cell_type": "code",
   "execution_count": 12,
   "metadata": {},
   "outputs": [],
   "source": [
    "from html.entities import html5"
   ]
  },
  {
   "cell_type": "code",
   "execution_count": 13,
   "metadata": {},
   "outputs": [
    {
     "data": {
      "text/plain": [
       "'ä'"
      ]
     },
     "execution_count": 13,
     "metadata": {},
     "output_type": "execute_result"
    }
   ],
   "source": [
    "html5['auml']"
   ]
  },
  {
   "cell_type": "markdown",
   "metadata": {},
   "source": [
    "The regular expression `&[a-zA-Z]+;?` searches for <span style=\"font-variant:small-caps;\">Html</span>\n",
    "entity names.  These are strings that start with the character `&` followed by the name of the entity, optionally followed by the character `;`.  For example, `&auml;` is the entity name that specifies the German umlaut `ä`.  If a Unicode entity name is found, the corresponding character is printed."
   ]
  },
  {
   "cell_type": "code",
   "execution_count": 14,
   "metadata": {},
   "outputs": [],
   "source": [
    "def t_NAMED_ENTITY(t):\n",
    "    r'&[a-zA-Z]+;?'\n",
    "    if t.value[-1] == ';':            # ';' is not part of the entity name\n",
    "        entity_name = t.value[1:-1]   # chop off '&' at the start and ';' at the end\n",
    "    else:\n",
    "        entity_name = t.value[1:]     # only chop '&' off \n",
    "    unicode_char = html5[entity_name]\n",
    "    print(unicode_char, end='')       # don't print a line break"
   ]
  },
  {
   "cell_type": "markdown",
   "metadata": {},
   "source": [
    "### The Definition of the Token `UNICODE` \n",
    "\n",
    "The regular expression `&\\#[0-9]+;?` searches for <span style=\"font-variant:small-caps;\">Html</span> entities that specify a unicode character numerically.  The corresponding strings start with the character `&`\n",
    "followed by the character `#` followed by digits and are optionally ended by the character `;`.\n",
    "\n",
    "Note that we had to escape the character `#` with a  backslash because otherwise this character would signal the begin of a comment.\n",
    "\n",
    "Note further that the function `chr` takes a number and returns the corresponding unicode character.\n",
    "For example, `chr(128034)` returns the character `'🐢'`. "
   ]
  },
  {
   "cell_type": "code",
   "execution_count": 15,
   "metadata": {},
   "outputs": [],
   "source": [
    "def t_UNICODE(t):\n",
    "    r'&\\#[0-9]+;?'\n",
    "    if t.value[-1] == ';':\n",
    "        number = t.value[2:-1]      # chop of '&#' at the start and ';' at the end\n",
    "    else:\n",
    "        number = t.value[2:]        # chop of '&#' at the start\n",
    "    print(chr(int(number)), end='')"
   ]
  },
  {
   "cell_type": "code",
   "execution_count": 16,
   "metadata": {},
   "outputs": [
    {
     "data": {
      "text/plain": [
       "'Ⅻ'"
      ]
     },
     "execution_count": 16,
     "metadata": {},
     "output_type": "execute_result"
    }
   ],
   "source": [
    "chr(8555)"
   ]
  },
  {
   "cell_type": "code",
   "execution_count": 17,
   "metadata": {},
   "outputs": [
    {
     "data": {
      "text/plain": [
       "'🐢'"
      ]
     },
     "execution_count": 17,
     "metadata": {},
     "output_type": "execute_result"
    }
   ],
   "source": [
    "chr(128034)"
   ]
  },
  {
   "cell_type": "markdown",
   "metadata": {},
   "source": [
    "### The Definition of the Token `ANY` \n",
    "\n",
    "The regular expression `.` matches any character that is different from a newline character.  These characters are printed unmodified.  Note that the scanner tries the regular expressions for a given state in the order that they are defined in this notebook.  Therefore, it is crucial that the function `t_ANY` is defined after all other token definitions for the `INITIAL` state are given.  The `INITIAL` state is the default state of the scanner and therefore the state the scanner is in when it starts scanning."
   ]
  },
  {
   "cell_type": "code",
   "execution_count": 18,
   "metadata": {},
   "outputs": [],
   "source": [
    "def t_ANY(t):\n",
    "    r'.'\n",
    "    print(t.value, end='')"
   ]
  },
  {
   "cell_type": "markdown",
   "metadata": {},
   "source": [
    "### The Definition of the Token `HEAD_END` \n",
    "\n",
    "The regular expression `</head>` matches the closing head tag.  Note that this regular expression is only\n",
    "active in state `header` as the name of this function starts with `t_header`.  Once the closing tag has been found, the function `lexer.begin` switches the lexer back into the state `INITIAL`, which is the \n",
    "<em style=\"color:blue\">start state</em> of the scanner.  In the state `INITIAL`, all token definitions are active, that do not start with either `t_header` or `t_script`."
   ]
  },
  {
   "cell_type": "code",
   "execution_count": 19,
   "metadata": {},
   "outputs": [],
   "source": [
    "def t_header_HEAD_END(t):\n",
    "    r'</head>'\n",
    "    t.lexer.begin('INITIAL')"
   ]
  },
  {
   "cell_type": "markdown",
   "metadata": {},
   "source": [
    "### The Definition of the Token `SCRIPT_END`"
   ]
  },
  {
   "cell_type": "markdown",
   "metadata": {},
   "source": [
    "The regular expression `</script>` matches the closing script tag.  Note that this regular expression is only\n",
    "active in state `script`.  Once the closing tag has been found, the function `lexer.begin` switches the lexer back into the state `INITIAL`, which is the start state of the scanner.  "
   ]
  },
  {
   "cell_type": "code",
   "execution_count": 20,
   "metadata": {},
   "outputs": [],
   "source": [
    "def t_script_SCRIPT_END(t):\n",
    "    r'</script>'\n",
    "    t.lexer.begin('INITIAL')"
   ]
  },
  {
   "cell_type": "markdown",
   "metadata": {},
   "source": [
    "### The Definition of the Token `ANY`\n",
    "\n",
    "If the scanner is either in the state `header` or the state `script`, the function \n",
    "`t_header_script_ANY` eats up all characters without echoing them."
   ]
  },
  {
   "cell_type": "code",
   "execution_count": 21,
   "metadata": {},
   "outputs": [],
   "source": [
    "def t_header_script_ANY(t):\n",
    "    r'.|\\n'"
   ]
  },
  {
   "cell_type": "markdown",
   "metadata": {},
   "source": [
    "## Error Handling"
   ]
  },
  {
   "cell_type": "markdown",
   "metadata": {},
   "source": [
    "The function `t_error` is called when a substring at the beginning of the input can not be matched by any of the regular expressions defined in the various tokens.  In our implementation we print the first character that could not be matched, discard this character and continue.\n",
    "\n",
    "<b>Note:</b>  Because of our definition for the token `ANY`, there can be no scanning **error**."
   ]
  },
  {
   "cell_type": "code",
   "execution_count": 22,
   "metadata": {},
   "outputs": [],
   "source": [
    "def t_error(t):\n",
    "    print(f\"Illegal character: '{t.value[0]}'\")\n",
    "    t.lexer.skip(1)"
   ]
  },
  {
   "cell_type": "markdown",
   "metadata": {},
   "source": [
    "The function `t_header_error` is called when a substring at the beginning of the input can not be matched by any of the regular expressions defined in the various tokens and the scanner is in state `header`.  Actually, this function can never be called."
   ]
  },
  {
   "cell_type": "code",
   "execution_count": 23,
   "metadata": {},
   "outputs": [],
   "source": [
    "def t_header_error(t):\n",
    "    print(f\"Illegal character in state 'header': '{t.value[0]}'\")\n",
    "    t.lexer.skip(1)"
   ]
  },
  {
   "cell_type": "markdown",
   "metadata": {},
   "source": [
    "The function `t_script_error` is called when a substring at the beginning of the input can not be matched by any of the regular expressions defined in the various tokens and the scanner is in state `script`.  Actually, this function can never be called."
   ]
  },
  {
   "cell_type": "code",
   "execution_count": 24,
   "metadata": {},
   "outputs": [],
   "source": [
    "def t_script_error(t):\n",
    "    print(f\"Illegal character in state 'script': '{t.value[0]}'\")\n",
    "    t.lexer.skip(1)"
   ]
  },
  {
   "cell_type": "markdown",
   "metadata": {},
   "source": [
    "## Running the Scanner"
   ]
  },
  {
   "cell_type": "markdown",
   "metadata": {},
   "source": [
    "The line below is necessary to trick `ply.lex` into assuming this program is written in an ordinary python file instead of a *Jupyter notebook*."
   ]
  },
  {
   "cell_type": "code",
   "execution_count": 25,
   "metadata": {},
   "outputs": [],
   "source": [
    "__file__ = 'main'"
   ]
  },
  {
   "cell_type": "markdown",
   "metadata": {},
   "source": [
    "The line below generates the scanner.  Because the option `debug=True` is set, we can see the regular expression that is generated for scanning."
   ]
  },
  {
   "cell_type": "code",
   "execution_count": 26,
   "metadata": {},
   "outputs": [
    {
     "name": "stderr",
     "output_type": "stream",
     "text": [
      "lex: tokens   = ['HEAD_START', 'HEAD_END', 'SCRIPT_START', 'SCRIPT_END', 'TAG', 'LINEBREAK', 'NAMED_ENTITY', 'UNICODE', 'ANY']\n",
      "lex: literals = ''\n",
      "lex: states   = {'INITIAL': 'inclusive', 'header': 'exclusive', 'script': 'exclusive'}\n",
      "lex: Adding rule t_HEAD_START -> '<head>' (state 'INITIAL')\n",
      "lex: Adding rule t_SCRIPT_START -> '<script>' (state 'INITIAL')\n",
      "lex: Adding rule t_LINEBREAK -> '(\\s*\\n\\s*)+' (state 'INITIAL')\n",
      "lex: Adding rule t_TAG -> '<[^>]+>' (state 'INITIAL')\n",
      "lex: Adding rule t_NAMED_ENTITY -> '&[a-zA-Z]+;?' (state 'INITIAL')\n",
      "lex: Adding rule t_UNICODE -> '&\\#[0-9]+;?' (state 'INITIAL')\n",
      "lex: Adding rule t_ANY -> '.' (state 'INITIAL')\n",
      "lex: Adding rule t_header_HEAD_END -> '</head>' (state 'header')\n",
      "lex: Adding rule t_header_script_ANY -> '.|\\n' (state 'header')\n",
      "lex: Adding rule t_script_SCRIPT_END -> '</script>' (state 'script')\n",
      "lex: Adding rule t_header_script_ANY -> '.|\\n' (state 'script')\n",
      "lex: ==== MASTER REGEXS FOLLOW ====\n",
      "lex: state 'INITIAL' : regex[0] = '(?P<t_HEAD_START><head>)|(?P<t_SCRIPT_START><script>)|(?P<t_LINEBREAK>(\\s*\\n\\s*)+)|(?P<t_TAG><[^>]+>)|(?P<t_NAMED_ENTITY>&[a-zA-Z]+;?)|(?P<t_UNICODE>&\\#[0-9]+;?)|(?P<t_ANY>.)'\n",
      "lex: state 'header' : regex[0] = '(?P<t_header_HEAD_END></head>)|(?P<t_header_script_ANY>.|\\n)'\n",
      "lex: state 'script' : regex[0] = '(?P<t_script_SCRIPT_END></script>)|(?P<t_header_script_ANY>.|\\n)'\n"
     ]
    }
   ],
   "source": [
    "lexer = lex.lex(debug=True)"
   ]
  },
  {
   "cell_type": "markdown",
   "metadata": {},
   "source": [
    "Next, we feed our input string into the generated scanner."
   ]
  },
  {
   "cell_type": "code",
   "execution_count": 27,
   "metadata": {},
   "outputs": [],
   "source": [
    "lexer.input(data)"
   ]
  },
  {
   "cell_type": "markdown",
   "metadata": {},
   "source": [
    "In order to scan the data that we provided in the last line, we iterate over all tokens generated by our scanner."
   ]
  },
  {
   "cell_type": "code",
   "execution_count": 28,
   "metadata": {},
   "outputs": [],
   "source": [
    "def scan(lexer):\n",
    "    for _ in lexer:\n",
    "        pass"
   ]
  },
  {
   "cell_type": "code",
   "execution_count": 29,
   "metadata": {},
   "outputs": [
    {
     "name": "stdout",
     "output_type": "stream",
     "text": [
      "\n",
      "\n",
      "\n",
      "\n",
      "\n",
      "\n",
      "\n",
      "\n",
      "Prof. Dr. Karl Stroetmann\n",
      "\n",
      "\n",
      "\n",
      "Duale Hochschule Baden-Württemberg\n",
      "Coblitzallee 1-9\n",
      "68163 Mannheim\n",
      "Germany\n",
      "\n",
      "Office:     Raum 344B\n",
      "Phone:    +49 621 4105-1376\n",
      "Fax:        +49 621 4105-1194\n",
      "Skype:     karlstroetmann\n",
      "\n",
      "\n",
      "Some links:\n",
      "\n",
      "\n",
      "My lecture notes,\n",
      "as well as the programs presented in class, can be found\n",
      "at \n",
      "https://github.com/karlstroetmann.\n",
      "\n",
      "Most of my papers can be found at researchgate.net.\n",
      "The programming language SetlX can be downloaded at \n",
      "http://randoom.org/Software/SetlX.\n",
      "\n",
      "\n",
      "\n",
      "\n",
      "\n",
      "\n",
      "As I am getting old and wise, I have to accept the limits of\n",
      "my own capabilities.  I have condensed these deep philosophical\n",
      "insights into a most beautiful pearl of poetry.  I would like\n",
      "to share these humble words of wisdom:\n",
      "\n",
      "I am a teacher by profession,    \n",
      "mostly really by obsession;      \n",
      "But even though I boldly try,    \n",
      "I just cannot teach pigs to fly.\n",
      "Instead, I slaughter them and fry.\n",
      "\n",
      "\n",
      "\n",
      "Any sufficiently advanced poetry is indistinguishable from divine wisdom.\n",
      "\n",
      "His holiness Pope Hugo Ⅻ.\n",
      "\n",
      "\n",
      "\n",
      "\n",
      "\n"
     ]
    }
   ],
   "source": [
    "scan(lexer)"
   ]
  },
  {
   "cell_type": "code",
   "execution_count": null,
   "metadata": {},
   "outputs": [],
   "source": []
  }
 ],
 "metadata": {
  "kernelspec": {
   "display_name": "Python 3 (ipykernel)",
   "language": "python",
   "name": "python3"
  },
  "language_info": {
   "codemirror_mode": {
    "name": "ipython",
    "version": 3
   },
   "file_extension": ".py",
   "mimetype": "text/x-python",
   "name": "python",
   "nbconvert_exporter": "python",
   "pygments_lexer": "ipython3",
   "version": "3.13.7"
  },
  "varInspector": {
   "cols": {
    "lenName": 16,
    "lenType": 16,
    "lenVar": 40
   },
   "kernels_config": {
    "python": {
     "delete_cmd_postfix": "",
     "delete_cmd_prefix": "del ",
     "library": "var_list.py",
     "varRefreshCmd": "print(var_dic_list())"
    },
    "r": {
     "delete_cmd_postfix": ") ",
     "delete_cmd_prefix": "rm(",
     "library": "var_list.r",
     "varRefreshCmd": "cat(var_dic_list()) "
    }
   },
   "types_to_exclude": [
    "module",
    "function",
    "builtin_function_or_method",
    "instance",
    "_Feature"
   ],
   "window_display": false
  }
 },
 "nbformat": 4,
 "nbformat_minor": 4
}
