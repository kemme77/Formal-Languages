{
 "cells": [
  {
   "cell_type": "code",
   "execution_count": null,
   "metadata": {},
   "outputs": [],
   "source": [
    "from IPython.display import HTML\n",
    "HTML(open('../../style.css').read())"
   ]
  },
  {
   "cell_type": "markdown",
   "metadata": {},
   "source": [
    "# Converting $\\LaTeX$ to <span style=\"font-variant:small-caps;\">Html</span>"
   ]
  },
  {
   "cell_type": "markdown",
   "metadata": {},
   "source": [
    "The purpose of the following exercise is to implement a translator from [$\\LaTeX$](http://www.latex-project.org) to \n",
    "[MathML](https://www.tutorialspoint.com/mathml/index.htm).  $\\LaTeX$ is a document markup language\n",
    "that is especially well suited to present text that contains mathematical formulas.  MathML is the part of <span style=\"font-variant:small-caps;\">Html</span> that deals with the representation of mathematical formulas.  As $\\LaTeX$ provides a very rich\n",
    "document markup language and we can only afford to spend a few hours on this exercise, we confine\n",
    "ourselves to a small subset of $\\LaTeX$.  The file `example.tex` contains some $\\LaTeX$.  The goal of this exercise is to implement a translator that is able to transform this file into MathML.\n",
    "\n",
    "We start with reading the file. "
   ]
  },
  {
   "cell_type": "code",
   "execution_count": null,
   "metadata": {},
   "outputs": [],
   "source": [
    "with open('example.tex') as f:\n",
    "    data = f.read()"
   ]
  },
  {
   "cell_type": "markdown",
   "metadata": {},
   "source": [
    "Now data contains the text that is stored in this file."
   ]
  },
  {
   "cell_type": "code",
   "execution_count": null,
   "metadata": {},
   "outputs": [],
   "source": [
    "print(data)"
   ]
  },
  {
   "cell_type": "markdown",
   "metadata": {},
   "source": [
    "Let us look at the output file `example.pdf` that is produced if we run $\\LaTeX$ on this file. \n",
    "If you are nor running <span style=\"font-variant:small-caps;\">MacOS</span> you have to replace the command\n",
    "`open` with the name of an executable that can open a `.pdf`-file."
   ]
  },
  {
   "cell_type": "code",
   "execution_count": null,
   "metadata": {},
   "outputs": [],
   "source": [
    "!open example.pdf"
   ]
  },
  {
   "cell_type": "markdown",
   "metadata": {},
   "source": [
    "Next, we open the file `example.html`.  The scanner we are going to implement has to write its output into this file."
   ]
  },
  {
   "cell_type": "code",
   "execution_count": null,
   "metadata": {},
   "outputs": [],
   "source": [
    "outfile = open('example.html', 'w')"
   ]
  },
  {
   "cell_type": "markdown",
   "metadata": {},
   "source": [
    "<hr style=\"height:4px;background-color:blue\">\n",
    "Below are some predefined functions that you can use to create the <span style=\"font-variant:small-caps;\">Html</span> file.\n",
    "<hr style=\"height:4px;background-color:blue\">"
   ]
  },
  {
   "cell_type": "markdown",
   "metadata": {},
   "source": [
    "The function `start_html` writes the header of the <span style=\"font-variant:small-caps;\">Html</span> file\n",
    "and the opening `<body>` tag to the file opened above."
   ]
  },
  {
   "cell_type": "code",
   "execution_count": null,
   "metadata": {},
   "outputs": [],
   "source": [
    "def start_html():\n",
    "    outfile.write('<!doctype html>\\n')\n",
    "    outfile.write('<html>\\n')\n",
    "    outfile.write('<head>\\n')\n",
    "    outfile.write('<script type=\"text/javascript\" ')\n",
    "    outfile.write('src=\"http://cdn.mathjax.org/mathjax/latest/MathJax.js?config=TeX-AMS-MML_HTMLorMML\">\\n')\n",
    "    outfile.write('</script>\\n')\n",
    "    outfile.write('</head>')\n",
    "    outfile.write('<body>\\n\\n')"
   ]
  },
  {
   "cell_type": "markdown",
   "metadata": {},
   "source": [
    "The function `end_html` writes the closing `</body>` and `</html>` tags."
   ]
  },
  {
   "cell_type": "code",
   "execution_count": null,
   "metadata": {},
   "outputs": [],
   "source": [
    "def end_html():\n",
    "    outfile.write('</body>\\n')\n",
    "    outfile.write('</html>\\n')"
   ]
  },
  {
   "cell_type": "markdown",
   "metadata": {},
   "source": [
    "The function `start_math_block` starts a math block.  This is useful for formulas enclosed in `$$`.  This type of formulas is displayed in a line by itself."
   ]
  },
  {
   "cell_type": "code",
   "execution_count": null,
   "metadata": {},
   "outputs": [],
   "source": [
    "def start_math_block():\n",
    "    outfile.write('<math xmlns=\"http://www.w3.org/1998/Math/MathML\" display=\"block\">\\n')"
   ]
  },
  {
   "cell_type": "markdown",
   "metadata": {},
   "source": [
    "The function `start_math_inline` starts an <em style=\"color:blue\">inline formula</em>, i.e. a formula enclosed in `$`.  Formulas of this type are part of the surrounding text."
   ]
  },
  {
   "cell_type": "code",
   "execution_count": null,
   "metadata": {},
   "outputs": [],
   "source": [
    "def start_math_inline():\n",
    "    outfile.write('<math xmlns=\"http://www.w3.org/1998/Math/MathML\" display=\"inline\">\\n')"
   ]
  },
  {
   "cell_type": "markdown",
   "metadata": {},
   "source": [
    "The function `start_math_block` ends a math block."
   ]
  },
  {
   "cell_type": "code",
   "execution_count": null,
   "metadata": {},
   "outputs": [],
   "source": [
    "def end_math():\n",
    "    outfile.write('</math>\\n')"
   ]
  },
  {
   "cell_type": "markdown",
   "metadata": {},
   "source": [
    "The functions `start_sum` and `end_sum` write code to display formulas involving sums.  For example, to display  the expression\n",
    "$$ \\sum\\limits_{i=1}^n i^2 $$\n",
    "we can use the following MathML:\n",
    "```\n",
    "<munderover>\n",
    "<mo>&sum;</mo>\n",
    "<mrow>\n",
    "<mi>i</mi>\n",
    "<mo>=</mo>\n",
    "<mn>1</mn>\n",
    "</mrow>\n",
    "<mrow>\n",
    "<mi>n</mi>\n",
    "</mrow>\n",
    "</munderover>\n",
    "<msup>\n",
    "<mi>i</mi>\n",
    "<mrow>\n",
    "<mn>2</mn>\n",
    "</mrow>\n",
    "</msup>\n",
    "\n",
    "```"
   ]
  },
  {
   "cell_type": "code",
   "execution_count": null,
   "metadata": {},
   "outputs": [],
   "source": [
    "def start_sum():\n",
    "    outfile.write('<munderover>\\n')\n",
    "    outfile.write('<mo>&sum;</mo>\\n')\n",
    "\n",
    "def end_sum():\n",
    "    outfile.write('</munderover>\\n')"
   ]
  },
  {
   "cell_type": "markdown",
   "metadata": {},
   "source": [
    "The functions `start_sqrt` and `end_sqrt` write code to display formulas involving square roots.  For example, to display  the expression\n",
    "$$ \\sqrt{a^2 + b^2} $$\n",
    "we can use the following MathML:\n",
    "```\n",
    "<msqrt>\n",
    "<mrow>\n",
    "<msup>\n",
    "<mi>a</mi>\n",
    "<mrow>\n",
    "<mn>2</mn>\n",
    "</mrow>\n",
    "</msup>\n",
    "<mo>+</mo>\n",
    "<msup>\n",
    "<mi>b</mi>\n",
    "<mrow>\n",
    "<mn>2</mn>\n",
    "</mrow>\n",
    "</msup>\n",
    "</mrow>\n",
    "</msqrt>\n",
    "```"
   ]
  },
  {
   "cell_type": "code",
   "execution_count": null,
   "metadata": {},
   "outputs": [],
   "source": [
    "def start_sqrt():\n",
    "    outfile.write('<msqrt>\\n')\n",
    "\n",
    "def end_sqrt():\n",
    "    outfile.write('</msqrt>\\n')"
   ]
  },
  {
   "cell_type": "markdown",
   "metadata": {},
   "source": [
    "In order to write exponents we have to use the tag `<msup>`.  For example, the expression $a^2$ \n",
    "is equivalent to the following markup:\n",
    "```\n",
    "<msup>\n",
    "<mi>a</mi>\n",
    "<mrow>\n",
    "<mn>2</mn>\n",
    "</mrow>\n",
    "</msup>\n",
    "```\n",
    "Note that the exponent is enclosed in `<mrow>` `</mrow>` tags."
   ]
  },
  {
   "cell_type": "code",
   "execution_count": null,
   "metadata": {},
   "outputs": [],
   "source": [
    "def start_super():\n",
    "    outfile.write('<msup>\\n')\n",
    "\n",
    "def end_super():\n",
    "    outfile.write('</msup>\\n')"
   ]
  },
  {
   "cell_type": "markdown",
   "metadata": {},
   "source": [
    "In order to write fractions we have to use the tag `<mfrac>`.  For example, the expression $\\frac{1}{6}$ \n",
    "is equivalent to the following markup:\n",
    "```\n",
    "<mfrac>\n",
    "<mrow>\n",
    "<mn>1</mn>\n",
    "</mrow>\n",
    "<mrow>\n",
    "<mn>6</mn>\n",
    "</mrow>\n",
    "</mfrac>\n",
    "```\n",
    "Note that both nominator and denominator are enclosed in `<mrow>` `</mrow>` tags."
   ]
  },
  {
   "cell_type": "code",
   "execution_count": null,
   "metadata": {},
   "outputs": [],
   "source": [
    "def start_fraction():\n",
    "    outfile.write('<mfrac>\\n')\n",
    "\n",
    "def end_fraction():\n",
    "    outfile.write('</mfrac>\\n')"
   ]
  },
  {
   "cell_type": "markdown",
   "metadata": {},
   "source": [
    "Arguments of functions like the square root or exponents have to be enclosed in pairs of `<mrow>` and `</mrow>` tags.  "
   ]
  },
  {
   "cell_type": "code",
   "execution_count": null,
   "metadata": {},
   "outputs": [],
   "source": [
    "def start_row():\n",
    "    outfile.write('<mrow>\\n')\n",
    "\n",
    "def end_row():\n",
    "    outfile.write('</mrow>\\n')"
   ]
  },
  {
   "cell_type": "markdown",
   "metadata": {},
   "source": [
    "Variable names should be enclosed in pairs of `<mi>` and `</mi>` tags.  For example, the variable $x$ is displayed by the following MathML:\n",
    "```\n",
    "<mi>x</mi>\n",
    "```"
   ]
  },
  {
   "cell_type": "code",
   "execution_count": null,
   "metadata": {},
   "outputs": [],
   "source": [
    "def write_var(v):\n",
    "    outfile.write('<mi>' + v + '</mi>\\n')"
   ]
  },
  {
   "cell_type": "markdown",
   "metadata": {},
   "source": [
    "Numbers should be enclosed in pairs of `<mn>` and `</mn>` tags.  For example, the number $6$ is displayed by the following MathML:\n",
    "```\n",
    "<mn>6</mn>\n",
    "```"
   ]
  },
  {
   "cell_type": "code",
   "execution_count": null,
   "metadata": {},
   "outputs": [],
   "source": [
    "def write_number(n):\n",
    "    outfile.write('<mn>' + n + '</mn>\\n')"
   ]
  },
  {
   "cell_type": "markdown",
   "metadata": {},
   "source": [
    "The symbol $\\cdot$ is created by the following MathML:\n",
    "```\n",
    "<mo>&sdot;</mo>\n",
    "```"
   ]
  },
  {
   "cell_type": "code",
   "execution_count": null,
   "metadata": {},
   "outputs": [],
   "source": [
    "def write_times():\n",
    "    outfile.write('<mo>&sdot;</mo>\\n')"
   ]
  },
  {
   "cell_type": "markdown",
   "metadata": {},
   "source": [
    "Mathematical operators should be enclosed in pairs of `<mo>` and `</mo>` tags.  For example, the operator $+$ is displayed by the following MathML:\n",
    "```\n",
    "<mo>+</mo>\n",
    "```"
   ]
  },
  {
   "cell_type": "code",
   "execution_count": null,
   "metadata": {},
   "outputs": [],
   "source": [
    "def write_operator(op):\n",
    "    outfile.write('<mo>' + op + '</mo>\\n')"
   ]
  },
  {
   "cell_type": "markdown",
   "metadata": {},
   "source": [
    "The symbol $\\pi$ is created by the following MathML:\n",
    "```\n",
    "<mn>&pi;</mn>\n",
    "```"
   ]
  },
  {
   "cell_type": "code",
   "execution_count": null,
   "metadata": {},
   "outputs": [],
   "source": [
    "def write_pi():\n",
    "    outfile.write('<mn>&pi;</mn>\\n')"
   ]
  },
  {
   "cell_type": "markdown",
   "metadata": {},
   "source": [
    "The symbol $\\leq$ is created by the following MathML:\n",
    "```\n",
    "<mn>&le;</mn>\n",
    "```"
   ]
  },
  {
   "cell_type": "code",
   "execution_count": null,
   "metadata": {},
   "outputs": [],
   "source": [
    "def write_leq():\n",
    "    outfile.write('<mo>&le;</mo>\\n')"
   ]
  },
  {
   "cell_type": "markdown",
   "metadata": {},
   "source": [
    "The symbol $\\geq$ is created by the following MathML:\n",
    "```\n",
    "<mn>&ge;</mn>\n",
    "```"
   ]
  },
  {
   "cell_type": "code",
   "execution_count": null,
   "metadata": {},
   "outputs": [],
   "source": [
    "def write_geq():\n",
    "    outfile.write('<mo>&ge;</mo>\\n')"
   ]
  },
  {
   "cell_type": "markdown",
   "metadata": {},
   "source": [
    "The function `write_any` writes a single character unadorned to the output file."
   ]
  },
  {
   "cell_type": "code",
   "execution_count": null,
   "metadata": {},
   "outputs": [],
   "source": [
    "def write_any(char):\n",
    "    outfile.write(char)"
   ]
  },
  {
   "cell_type": "markdown",
   "metadata": {},
   "source": [
    "We will be use the library [ply](https://ply.readthedocs.io/en/latest/ply.html) to translate $\\LaTeX$ into \n",
    "<span style=\"font-variant:small-caps;\">MathML</span>.\n",
    "We only use the scanner that is provided by the module `ply.lex`. \n",
    "Hence we import the module `ply.lex` that contains the scanner generator from `ply`."
   ]
  },
  {
   "cell_type": "code",
   "execution_count": null,
   "metadata": {},
   "outputs": [],
   "source": [
    "import ply.lex as lex"
   ]
  },
  {
   "cell_type": "markdown",
   "metadata": {},
   "source": [
    "We have to declare all tokens below.  We will need tokens for the following parts of the $\\LaTeX$ file:\n",
    " - The $\\LaTeX$ file starts with the string `\\documentclass{article}`.\n",
    " - Next, there is the string `\\begin{document}` that starts the content.\n",
    " - The string &#92;`end{document}` ends the content.\n",
    " - The string `$$` starts and ends a formula that is displayed on a line by itself.\n",
    " - The string `$` starts and ends a formula that is displayed as part of the text.\n",
    " - The string `\\sum\\limits_\\{` starts the definition of a sum.\n",
    " - The string `\\sqrt\\{` starts the definition of a square root.\n",
    " - The string `\\frac\\{` starts the definition of a fraction.\n",
    " - A variable taken to a power starts something like `a^{`.\n",
    " - $\\vdots$"
   ]
  },
  {
   "cell_type": "code",
   "execution_count": null,
   "metadata": {},
   "outputs": [],
   "source": [
    "tokens = [ 'HEAD',            # r'\\\\documentclass\\{article\\}'\n",
    "           'BEGIN_DOCUMENT',  # r'\\\\begin\\{document\\}'\n",
    "           'END_DOCUMENT',    # r'\\\\end\\{document\\}'\n",
    "           'DOLLAR_DOLLAR',   # r'\\$\\$'\n",
    "           'DOLLAR',          # r'\\$'\n",
    "           'SUM_LIMITS',      # r'\\\\sum\\\\limits_\\{'\n",
    "           'SQRT',            # r'\\\\sqrt\\{'\n",
    "           'FRAC',            # r'\\\\frac\\{'\n",
    "           'VARIABLE_HAT',    # r'[a-zA-Z]+\\^\\{'\n",
    "           'CB_HAT_OB',       # r'\\}\\^\\{|\\}\\{'\n",
    "           'CB',              # r'\\}'\n",
    "           'VARIABLE',        # r'[a-zA-Z]+'\n",
    "           'NUMBER',          # r'0|[1-9][0-9]*'\n",
    "           'CDOT',            # r'\\\\cdot'\n",
    "           'STAR',            # r'\\*'\n",
    "           'LT',              # r'<'\n",
    "           'GT',              # r'>'\n",
    "           'LEQ',             # r'\\\\leq'\n",
    "           'GEQ',             # r'\\\\geq'\n",
    "           'OPERATOR',        # r'[.,()+=-]'\n",
    "           'PI',              # r'\\\\pi'\n",
    "           'ANY',             # r'.|\\n'\n",
    "           'WS'               # r'[ \\t]'\n",
    "         ]"
   ]
  },
  {
   "cell_type": "markdown",
   "metadata": {},
   "source": [
    "When we see a closing brace `}` things get difficult.  The reason is that we need to know what type of formula is being closed. Is it a square root, the subscript of a sum, the superscript of a sum, some part of a fraction, or an exponent.  My idea is to use a stack that is attached to the lexer, i.e. we have a variable `lexer.stack` that stores this information.  We need a stack since formulas might be nested.\n",
    "\n",
    "Furthermore, the scanner has two different states.  Either we are inside a formula, i.e. inside something that is enclosed in dollar symbols, or we are inside text that needs to be echoed unchanged to the output file."
   ]
  },
  {
   "cell_type": "code",
   "execution_count": null,
   "metadata": {},
   "outputs": [],
   "source": [
    "states = [ ('formula', 'exclusive') ]"
   ]
  },
  {
   "cell_type": "code",
   "execution_count": null,
   "metadata": {},
   "outputs": [],
   "source": [
    "def t_HEAD(t):\n",
    "    r'\\\\documentclass\\{article\\}'\n",
    "    pass"
   ]
  },
  {
   "cell_type": "code",
   "execution_count": null,
   "metadata": {},
   "outputs": [],
   "source": [
    "def t_BEGIN_DOCUMENT(t):\n",
    "    r'\\\\begin\\{document\\}'\n",
    "    start_html()"
   ]
  },
  {
   "cell_type": "code",
   "execution_count": null,
   "metadata": {},
   "outputs": [],
   "source": [
    "def t_END_DOCUMENT(t):\n",
    "    r'\\\\end\\{document\\}'\n",
    "    end_html()"
   ]
  },
  {
   "cell_type": "code",
   "execution_count": null,
   "metadata": {},
   "outputs": [],
   "source": [
    "def t_DOLLAR_DOLLAR(t):\n",
    "    r'\\$\\$'\n",
    "    t.lexer.begin('formula')\n",
    "    t.lexer.stack = []\n",
    "    t.lexer.stack.append('INITIAL')\n",
    "    start_math_block()"
   ]
  },
  {
   "cell_type": "code",
   "execution_count": null,
   "metadata": {},
   "outputs": [],
   "source": [
    "def t_DOLLAR(t):\n",
    "    \"your code here\""
   ]
  },
  {
   "cell_type": "code",
   "execution_count": null,
   "metadata": {},
   "outputs": [],
   "source": [
    "def t_ANY(t):\n",
    "    r'.|\\n'\n",
    "    write_any(t.value)"
   ]
  },
  {
   "cell_type": "code",
   "execution_count": null,
   "metadata": {},
   "outputs": [],
   "source": [
    "def t_formula_DOLLAR_DOLLAR(t):\n",
    "    r'\\$\\$'\n",
    "    t.lexer.begin('INITIAL')\n",
    "    end_math()"
   ]
  },
  {
   "cell_type": "code",
   "execution_count": null,
   "metadata": {},
   "outputs": [],
   "source": [
    "def t_formula_DOLLAR(t):\n",
    "    \"your code here\""
   ]
  },
  {
   "cell_type": "markdown",
   "metadata": {},
   "source": [
    "... lots of token definitions here ..."
   ]
  },
  {
   "cell_type": "code",
   "execution_count": null,
   "metadata": {},
   "outputs": [],
   "source": [
    "def t_formula_error(t):\n",
    "    print(f\"Illegal character in state 'formula': '{t.value[0]}'\")\n",
    "    t.lexer.skip(1)"
   ]
  },
  {
   "cell_type": "markdown",
   "metadata": {},
   "source": [
    "The line below is necessary to trick `ply.lex` into assuming this program is written in an ordinary python file instead of a *Jupyter notebook*."
   ]
  },
  {
   "cell_type": "code",
   "execution_count": null,
   "metadata": {},
   "outputs": [],
   "source": [
    "__file__ = 'main'"
   ]
  },
  {
   "cell_type": "markdown",
   "metadata": {},
   "source": [
    "The line below generates the scanner."
   ]
  },
  {
   "cell_type": "code",
   "execution_count": null,
   "metadata": {},
   "outputs": [],
   "source": [
    "lexer = lex.lex(debug=True)"
   ]
  },
  {
   "cell_type": "markdown",
   "metadata": {},
   "source": [
    "Next, we feed our input string into the generated scanner."
   ]
  },
  {
   "cell_type": "code",
   "execution_count": null,
   "metadata": {},
   "outputs": [],
   "source": [
    "lexer.input(data)"
   ]
  },
  {
   "cell_type": "markdown",
   "metadata": {},
   "source": [
    "In order to scan the data that we provided in the last line, we iterate over all tokens generated by our scanner."
   ]
  },
  {
   "cell_type": "code",
   "execution_count": null,
   "metadata": {},
   "outputs": [],
   "source": [
    "def scan(lexer):\n",
    "    for t in lexer:\n",
    "        pass"
   ]
  },
  {
   "cell_type": "code",
   "execution_count": null,
   "metadata": {},
   "outputs": [],
   "source": [
    "scan(lexer)"
   ]
  },
  {
   "cell_type": "code",
   "execution_count": null,
   "metadata": {},
   "outputs": [],
   "source": [
    "outfile.close()"
   ]
  },
  {
   "cell_type": "code",
   "execution_count": null,
   "metadata": {},
   "outputs": [],
   "source": [
    "!open 'example.html'"
   ]
  },
  {
   "cell_type": "code",
   "execution_count": null,
   "metadata": {},
   "outputs": [],
   "source": []
  }
 ],
 "metadata": {
  "@webio": {
   "lastCommId": null,
   "lastKernelId": null
  },
  "kernelspec": {
   "display_name": "Python 3 (ipykernel)",
   "language": "python",
   "name": "python3"
  },
  "language_info": {
   "codemirror_mode": {
    "name": "ipython",
    "version": 3
   },
   "file_extension": ".py",
   "mimetype": "text/x-python",
   "name": "python",
   "nbconvert_exporter": "python",
   "pygments_lexer": "ipython3",
   "version": "3.13.7"
  },
  "varInspector": {
   "cols": {
    "lenName": 16,
    "lenType": 16,
    "lenVar": 40
   },
   "kernels_config": {
    "python": {
     "delete_cmd_postfix": "",
     "delete_cmd_prefix": "del ",
     "library": "var_list.py",
     "varRefreshCmd": "print(var_dic_list())"
    },
    "r": {
     "delete_cmd_postfix": ") ",
     "delete_cmd_prefix": "rm(",
     "library": "var_list.r",
     "varRefreshCmd": "cat(var_dic_list()) "
    }
   },
   "types_to_exclude": [
    "module",
    "function",
    "builtin_function_or_method",
    "instance",
    "_Feature"
   ],
   "window_display": false
  }
 },
 "nbformat": 4,
 "nbformat_minor": 4
}
